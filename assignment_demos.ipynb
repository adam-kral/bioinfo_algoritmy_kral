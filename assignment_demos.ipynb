{
 "cells": [
  {
   "cell_type": "markdown",
   "metadata": {},
   "source": [
    "# Sequence alignment using edit distance\n"
   ]
  },
  {
   "cell_type": "markdown",
   "metadata": {},
   "source": [
    "### and alignment module"
   ]
  },
  {
   "cell_type": "markdown",
   "metadata": {},
   "source": [
    "You can get all optimal alignments w.r.t. edit distance with `EditDistanceComputer`. It is a subclass of `AlignmentComputer`. I had to create my own generic alignment computer for assignment 9 (structure superposition) because of the requirement of a specialized match function called with arguments allowing it identify a specific residue. It was not possible with BioPython's alignment library functions.\n",
    "\n",
    "The alignment reconstruction is done by saving the optimal step(s) to a scoring matrix cell (`paths` matrix) during the computation of the scoring matrix. It wasn't possible to reconstruct the alignments in O(n+m) time just by using the scoring matrix when more complex gap/match score functions were employed (e.g. gap extensions vs gap opening). It could be done with this simple edit distance metric, but since I had to redo it anyway due to assignment 9, I replaced the old code (without saving the steps) with the generic alignment computer."
   ]
  },
  {
   "cell_type": "code",
   "execution_count": 1,
   "metadata": {
    "pycharm": {
     "is_executing": false
    },
    "scrolled": true
   },
   "outputs": [
    {
     "name": "stdout",
     "output_type": "stream",
     "text": [
      "----clock---\n",
      "overclocking\n",
      "distance: 7.0\n",
      "\n"
     ]
    }
   ],
   "source": [
    "from assignments.edit_distance import EditDistanceComputer\n",
    "\n",
    "alignments = EditDistanceComputer(\"clock\", \"overclocking\").compute()\n",
    "for al in alignments:\n",
    "    print(al)\n",
    "    print('distance:', al.distance)\n",
    "    print()"
   ]
  },
  {
   "cell_type": "markdown",
   "metadata": {},
   "source": [
    "In the case above and below there is only one optimal alignment (corresponding to the smallest distance, that is the least insert/delete/replace operations to turn one sequence into another)."
   ]
  },
  {
   "cell_type": "code",
   "execution_count": 2,
   "metadata": {
    "pycharm": {
     "is_executing": false
    }
   },
   "outputs": [
    {
     "name": "stdout",
     "output_type": "stream",
     "text": [
      "clock-\n",
      "-lacks\n",
      "distance: 3.0\n",
      "\n"
     ]
    }
   ],
   "source": [
    "alignments = EditDistanceComputer(\"clock\", \"lacks\").compute()\n",
    "for al in alignments:\n",
    "    print(al)\n",
    "    print('distance:', al.distance)\n",
    "    print()"
   ]
  },
  {
   "cell_type": "markdown",
   "metadata": {},
   "source": [
    "There are more optimal alignments in the following example:"
   ]
  },
  {
   "cell_type": "code",
   "execution_count": 3,
   "metadata": {
    "pycharm": {
     "is_executing": false
    },
    "scrolled": false
   },
   "outputs": [],
   "source": [
    "alignments = EditDistanceComputer(\"pitbull\", \"mr.worldwide\").compute()"
   ]
  },
  {
   "cell_type": "markdown",
   "metadata": {},
   "source": [
    "Yet not too many, so I it is possible to get all of them and put them into a list:"
   ]
  },
  {
   "cell_type": "code",
   "execution_count": 4,
   "metadata": {
    "pycharm": {
     "is_executing": false
    }
   },
   "outputs": [
    {
     "name": "stdout",
     "output_type": "stream",
     "text": [
      "There are 31 optimal alignments: \n",
      "\n",
      "pitbull-----\n",
      "mr.worldwide\n",
      "distance: 11.0\n",
      "\n",
      "pitbu-ll----\n",
      "mr.worldwide\n",
      "distance: 11.0\n",
      "\n",
      "pitb-ull----\n",
      "mr.worldwide\n",
      "distance: 11.0\n",
      "\n",
      "pit-bull----\n",
      "mr.worldwide\n",
      "distance: 11.0\n",
      "\n",
      "pi-tbull----\n",
      "mr.worldwide\n",
      "distance: 11.0\n",
      "\n",
      "p-itbull----\n",
      "mr.worldwide\n",
      "distance: 11.0\n",
      "\n",
      "-pitbull----\n",
      "mr.worldwide\n",
      "distance: 11.0\n",
      "\n",
      "pitbu-l-l---\n",
      "mr.worldwide\n",
      "distance: 11.0\n",
      "\n",
      "pitb-ul-l---\n",
      "mr.worldwide\n",
      "distance: 11.0\n",
      "\n",
      "pit-bul-l---\n",
      "mr.worldwide\n",
      "distance: 11.0\n",
      "\n",
      "pi-tbul-l---\n",
      "mr.worldwide\n",
      "distance: 11.0\n",
      "\n",
      "p-itbul-l---\n",
      "mr.worldwide\n",
      "distance: 11.0\n",
      "\n",
      "-pitbul-l---\n",
      "mr.worldwide\n",
      "distance: 11.0\n",
      "\n",
      "pitbu-l--l--\n",
      "mr.worldwide\n",
      "distance: 11.0\n",
      "\n",
      "pitb-ul--l--\n",
      "mr.worldwide\n",
      "distance: 11.0\n",
      "\n",
      "pit-bul--l--\n",
      "mr.worldwide\n",
      "distance: 11.0\n",
      "\n",
      "pi-tbul--l--\n",
      "mr.worldwide\n",
      "distance: 11.0\n",
      "\n",
      "p-itbul--l--\n",
      "mr.worldwide\n",
      "distance: 11.0\n",
      "\n",
      "-pitbul--l--\n",
      "mr.worldwide\n",
      "distance: 11.0\n",
      "\n",
      "pitbu-l---l-\n",
      "mr.worldwide\n",
      "distance: 11.0\n",
      "\n",
      "pitb-ul---l-\n",
      "mr.worldwide\n",
      "distance: 11.0\n",
      "\n",
      "pit-bul---l-\n",
      "mr.worldwide\n",
      "distance: 11.0\n",
      "\n",
      "pi-tbul---l-\n",
      "mr.worldwide\n",
      "distance: 11.0\n",
      "\n",
      "p-itbul---l-\n",
      "mr.worldwide\n",
      "distance: 11.0\n",
      "\n",
      "-pitbul---l-\n",
      "mr.worldwide\n",
      "distance: 11.0\n",
      "\n",
      "pitbu-l----l\n",
      "mr.worldwide\n",
      "distance: 11.0\n",
      "\n",
      "pitb-ul----l\n",
      "mr.worldwide\n",
      "distance: 11.0\n",
      "\n",
      "pit-bul----l\n",
      "mr.worldwide\n",
      "distance: 11.0\n",
      "\n",
      "pi-tbul----l\n",
      "mr.worldwide\n",
      "distance: 11.0\n",
      "\n",
      "p-itbul----l\n",
      "mr.worldwide\n",
      "distance: 11.0\n",
      "\n",
      "-pitbul----l\n",
      "mr.worldwide\n",
      "distance: 11.0\n",
      "\n"
     ]
    }
   ],
   "source": [
    "alignments = list(alignments)\n",
    "print(f'There are {len(alignments)} optimal alignments: ')\n",
    "print()\n",
    "\n",
    "for al in reversed(alignments):  # it looks better when iterating in reverse\n",
    "    print(al)\n",
    "    print('distance:', al.distance)\n",
    "    print()"
   ]
  },
  {
   "cell_type": "markdown",
   "metadata": {},
   "source": [
    "# Processing FASTA files"
   ]
  },
  {
   "cell_type": "markdown",
   "metadata": {},
   "source": [
    "BioPython library function `SeqIO.parse`, returns `SeqRecord` object already possessing the abilities required in this assignment: "
   ]
  },
  {
   "cell_type": "markdown",
   "metadata": {},
   "source": [
    "Read in a FASTA files with an arbitrary number of molecules. `parse_fasta` calls BioPython's `SeqIO.parse` and passes 'fasta' as the argument for file format. "
   ]
  },
  {
   "cell_type": "code",
   "execution_count": 5,
   "metadata": {
    "pycharm": {
     "is_executing": false
    }
   },
   "outputs": [],
   "source": [
    "import os\n",
    "from assignments.fasta import parse_fasta\n",
    "\n",
    "seq_records = list(parse_fasta('assignments/fasta/test_data/seq1.fasta'))\n",
    "\n",
    "seq_record = seq_records[0]"
   ]
  },
  {
   "cell_type": "markdown",
   "metadata": {},
   "source": [
    "Obtain description/sequence of any molecules"
   ]
  },
  {
   "cell_type": "code",
   "execution_count": 6,
   "metadata": {
    "pycharm": {
     "is_executing": false
    }
   },
   "outputs": [
    {
     "name": "stdout",
     "output_type": "stream",
     "text": [
      "NM_018189.3 Homo sapiens developmental pluripotency associated 4 (DPPA4), transcript variant 1, mRNA\n",
      "\n",
      "AAGTGGGAGGAGACTTTGCAAATAGCAATCTTGGGGCAGGGGCCATTTTGGAAGCATGTTGCGAGGCTCCGCTTCTTCTACAAGTATGGAGAAGGCAAAAGGCAAGGAGTGGACCTCCACAGAGAAGTCGAGGGAAGAGGATCAGCAGGCTTCTAATCAACCAAATTCAATTGCTTTGCCAGGAACATCAGCAAAGAGAACCAAAGAAAAAATGTCTATCAAAGGCAGTAAAGTGCTCTGCCCTAAGAAAAAGGCAGAGCACACTGACAACCCCAGACCTCAGAAGAAGATACCAATCCCTCCATTACCTTCTAAACTGCCACCTGTTAATCTGATTCACCGGGACATTCTGCGGGCCTGGTGCCAACAATTGAAGCTGAGCTCCAAAGGCCAGAAATTGGATGCATATAAGCGCCTGTGTGCCTTTGCCTACCCAAATCAAAAGGATTTTCCTAGCACAGCAAAAGAGGCCAAAATCCGGAAATCATTGCAAAAAAAATTAAAGGTGGAAAAGGGGGAAACGTCCCTGCAAAGTTCTGAGACACATCCTCCTGAAGTGGCTCTTCCTCCTGTGGGGGAGCCGCCTGCCCTGGAAAATTCCACTGCTCTCCTTGAGGGAGTTAATACAGTTGTGGTGACAACTTCTGCCCCAGAGGCTTTGCTGGCCTCCTGGGCGAGAATTTCAGCCAGGGCGAGGACACCAGAGGCAGTGGAATCTCCACAAGAGGCCTCTGGTGTCAGGTGGTGTGTGGTCCATGGGAAAAGTCTCCCTGCAGACACAGATGGTTGGGTTCACCTGCAGTTTCATGCTGGTCAAGCCTGGGTTCCAGAAAAGCAAGAAGGGAGAGTGAGTGCACTCTTCTTGCTTCCTGCCTCCAATTTTCCACCCCCGCACCTTGAAGACAATATGTTGTGCCCCAAATGTGTTCACAGGAACAAGGTCTTAATAAAAAGCCTCCAATGGGAATAGAATATCAGGAAAAAGGCCACATCTATGGTAATTAATGGCAGAAAAGCTGGAGAGTTGGATTCTGCGGTGCTGCTGACAGGTGAACTCTGGTCCTCTGCACCTGTTTATGGGCCATGCAGACTGGTGGGGTGGCAGATGTTAGCCTAAGACCCCTAGCAGTGCCTGTTGCTTTGTGAGTGGAGATAGAGACTCTTACATTTAAAAATGGAAAAACATTTCACAAATTACCATAAATTGTAGTTAATATGTAGAAAAACTCATTCATACTACTTTTCTAAAATAGACATGACTTCAGCAGCAGCTTTTTTTTGTTGTATTTTGAGACAGTGTCTCACTGTTGCCCAGGCTGGAGTGCAGTGGTGCAATCTCAGTTCAGTGCAATCTCCGCCTCCTGGGTTCAAATGATTCTCCTGCCTCAGCCTCCTGAGTAGCTAGGTACAGGCACCTGCCACCACACCCAGCTAATTTTTTGTATTTTTAGTAGAGATGGGGTTTCACCATGTTGGCCAGGTTGGTCTCAAACTCCTGGACTCAAGTGATCACCCTCCTCAGCCTCCCAAAATGCTGGGACTATGGGCATGAGCCCCTGCGCCTGACCTTCAACAGCTCTTTTAAGTGAGTTCTTCAGCTAAGCATTGTGATGGACTTGAGTAAAATGGTAGTTGGCTCTTGTGCTCAATTTTCTCTTCCTCTGAACACTGACTACTTTAGGAGCTGCTTCATTCCAATTGCAATTTCATAAAACGTAAAGTATTTTAAGGCAAAGAAAGGCTGTTAATTCCCTCCCTCCCCCAAACACATGATTTTTAATATTCTAAACAATATTTTTCAAAGTTCTCTTAATAACCTGAGATTTCTATGGTTTGACTCCAGGATCAAAACACAAGGGACTTTGTATTATTTCACTTATAATTGTTTTGTATATTTCTGGAGTTTAAAATGTTTAAGGTTGCTTCCCGCTCATAAATACATAATATATTGAATTTAAAATGTGTTTATTAACCGATTCTCCATAAATAAAAATAAGATGTGTATGTAAAATAATTCATCTGTTGTATTTAGAGAACCATATTCATTGCATGCAAATTTTATTGTTAGTGTTCTTAACTCAAGTAGGAGTAAACCAAAAAGTGTGATTTTTCTTTTGTATGACTCGTTTGTTCTTTATTAGTTGGTGGTATGGGTTGGATCATTTGTTTTTAAAACTACTTAGGTATGATTCACATACAAAAAGCTGCACATATTTAATGTATCCTATTGTGTAATTAATTTTTAATTTTTTTGTGTACTTCCTAAACTTATAGTCCTGCGAGTCTGGGAACAGATCTGTTTTTCACTTATCCTGATTTAATGACAGTTTCCAACATTGTTTTGTTATTACAAGTAGGGGATCTTTTTTTTTGCCCGTTTAATGAAGATACTAAAAATAATGCACTGGAAGGAGTGGAAGAGTTGGAAAATTTGTAACCATCATAATACAGGTGTAATAGGTTTGGGAAAGAATCCTCAAAAATGTTAAAGCAAGGGAGGAAAGTTTGTTGAGAAGCAAGATGTTCTTCTCTCCTGCCCGCCCCCGCCGTTGGTTGTTGGTGGTCAGAATTATTGTGTAATAAATAATAGACATTTTTTCTTATACTATGTGTATTGTTCCTTTTGTTTCCTTTTTAAACTTCTCCCCTGCTTTATTTGGATGGGTCAAGTTTCTGTTCTGTTTCCTTCCTTTCTATTAATTTGGAAATGTCCTTGGCTTTACGATTCTGCTTGTAGATACTTCCCCTGCTTCTAACACATTTCAATAAACTTAAATTTCTCTATATACAAAATAAATTAATAATTGGAGTCTACCAAAAAAA\n"
     ]
    }
   ],
   "source": [
    "print(seq_record.description)\n",
    "print()\n",
    "print(seq_record.seq)\n"
   ]
  },
  {
   "cell_type": "markdown",
   "metadata": {},
   "source": [
    "Return sequence length for given sequence"
   ]
  },
  {
   "cell_type": "code",
   "execution_count": 7,
   "metadata": {
    "pycharm": {
     "is_executing": false
    }
   },
   "outputs": [
    {
     "data": {
      "text/plain": [
       "2823"
      ]
     },
     "execution_count": 7,
     "metadata": {},
     "output_type": "execute_result"
    }
   ],
   "source": [
    "len(seq_record.seq)"
   ]
  },
  {
   "cell_type": "markdown",
   "metadata": {},
   "source": [
    "Return subsequence of given sequence"
   ]
  },
  {
   "cell_type": "code",
   "execution_count": 8,
   "metadata": {
    "pycharm": {
     "is_executing": false
    }
   },
   "outputs": [
    {
     "data": {
      "text/plain": [
       "Seq('GTGGGAGG', SingleLetterAlphabet())"
      ]
     },
     "execution_count": 8,
     "metadata": {},
     "output_type": "execute_result"
    }
   ],
   "source": [
    "seq_record.seq[2:10]"
   ]
  },
  {
   "cell_type": "markdown",
   "metadata": {},
   "source": [
    "# Measuring sequence similarity using Hamming distance"
   ]
  },
  {
   "cell_type": "code",
   "execution_count": 9,
   "metadata": {
    "pycharm": {
     "is_executing": false
    }
   },
   "outputs": [],
   "source": [
    "from assignments.hamming import hamming_distance, IncompatibleLengthException"
   ]
  },
  {
   "cell_type": "code",
   "execution_count": 10,
   "metadata": {
    "pycharm": {
     "is_executing": false
    }
   },
   "outputs": [
    {
     "name": "stdout",
     "output_type": "stream",
     "text": [
      "0\n",
      "2\n",
      "5\n",
      "0\n"
     ]
    }
   ],
   "source": [
    "print(hamming_distance('abcd', 'abcd'))\n",
    "print(hamming_distance('abcd', 'bbcw'))\n",
    "print(hamming_distance('clock', 'lacks'))\n",
    "\n",
    "seq_record = next(parse_fasta('assignments/fasta/test_data/seq1.fasta'))\n",
    "print(hamming_distance(seq_record.seq, seq_record.seq))"
   ]
  },
  {
   "cell_type": "markdown",
   "metadata": {},
   "source": [
    "Calling the function with two strings of different lengths raises an exception:"
   ]
  },
  {
   "cell_type": "code",
   "execution_count": 11,
   "metadata": {
    "pycharm": {
     "is_executing": false
    }
   },
   "outputs": [
    {
     "name": "stdout",
     "output_type": "stream",
     "text": [
      "Exception caught\n"
     ]
    }
   ],
   "source": [
    "try:\n",
    "    hamming_distance('ab', 'a')\n",
    "except IncompatibleLengthException as e:\n",
    "    print('Exception caught')"
   ]
  },
  {
   "cell_type": "markdown",
   "metadata": {},
   "source": [
    "# Processing multiple sequence alignment"
   ]
  },
  {
   "cell_type": "markdown",
   "metadata": {},
   "source": [
    "Written CLUSTAL  Parser based on http://meme-suite.org/doc/clustalw-format.html specs. It then instantiates `MSA`, which is a subclass of BioPython's `MultipleSeqAlignment` (sum of pairs computing functionality added)."
   ]
  },
  {
   "cell_type": "markdown",
   "metadata": {
    "pycharm": {
     "name": "#%% md\n"
    }
   },
   "source": [
    "Read and parse MSA."
   ]
  },
  {
   "cell_type": "code",
   "execution_count": 12,
   "metadata": {
    "pycharm": {
     "is_executing": false,
     "name": "#%%\n"
    }
   },
   "outputs": [
    {
     "name": "stdout",
     "output_type": "stream",
     "text": [
      "Alphabet() alignment with 55 rows and 530 columns\n",
      "M-------------------------------------------...DSD UniRef90_A0A151\n",
      "--------------------------------------------...DSE UniRef90_K7G3P4\n",
      "--------------------------------------------...DSE UniRef90_UPI000\n",
      "--------------------------------------------...GSE UniRef90_UPI000\n",
      "--------------------------------------------...DSD UniRef90_L7NCR5\n",
      "--------------------------------------------...DSD UniRef90_Q0GMA7\n",
      "--------------------------------------------...DSD UniRef90_C0PUM1\n",
      "--------------------------------------------...DSD UniRef90_UPI000\n",
      "--------------------------------------------...DSD UniRef90_F5A7P3\n",
      "--------------------------------------------...DSD UniRef90_O93379\n",
      "--------------------------------------------...DSD UniRef90_Q9W678\n",
      "--------------------------------------------...DSD UniRef90_UPI000\n",
      "--------------------------------------------...DSD UniRef90_P25035\n",
      "--------------------------------------------...DSD UniRef90_UPI000\n",
      "--------------------------------------------...DSD UniRef90_W5N8V4\n",
      "--------------------------------------------...DSD UniRef90_UPI000\n",
      "--------------------------------------------...GGG UniRef90_H3B1Z4\n",
      "MLGNSPARVECEPGGSGQGSRGIRVLPEARIGETVSFSCSCGNG...DSD UniRef90_UPI000\n",
      "...\n",
      "--------------------------------------------...DSD UniRef90_G3WS63\n"
     ]
    }
   ],
   "source": [
    "from assignments.clustal_parser import parse_clustal\n",
    "\n",
    "with open('assignments/clustal_parser/test_data/clustal_assigned') as f:\n",
    "    msa = parse_clustal(f)\n",
    "\n",
    "print(msa)"
   ]
  },
  {
   "cell_type": "markdown",
   "metadata": {
    "pycharm": {
     "name": "#%% md\n"
    }
   },
   "source": [
    "Retrieve sequence by its position (but not by ID which is not guaranteed to be unique, even in the assigned input data)"
   ]
  },
  {
   "cell_type": "code",
   "execution_count": 13,
   "metadata": {
    "pycharm": {
     "is_executing": false,
     "name": "#%%\n"
    }
   },
   "outputs": [
    {
     "name": "stdout",
     "output_type": "stream",
     "text": [
      "ID: UniRef90_A0A151\n",
      "Name: UniRef90_A0A151\n",
      "Description: UniRef90_A0A151\n",
      "Number of features: 0\n",
      "Seq('M-----------------------------------------------RQMESI...DSD')\n"
     ]
    }
   ],
   "source": [
    "print(msa[0])"
   ]
  },
  {
   "cell_type": "markdown",
   "metadata": {
    "pycharm": {
     "name": "#%% md\n"
    }
   },
   "source": [
    "Retrieve given column from the MSA"
   ]
  },
  {
   "cell_type": "code",
   "execution_count": 14,
   "metadata": {
    "pycharm": {
     "is_executing": false,
     "name": "#%%\n"
    }
   },
   "outputs": [
    {
     "name": "stdout",
     "output_type": "stream",
     "text": [
      "DGGGM--EMM--NNP-SSL-TNGSSSSSSSSGSSSSSSSGNNSTSSS-SSN-SD-\n"
     ]
    }
   ],
   "source": [
    "print(msa[:,60])"
   ]
  },
  {
   "cell_type": "markdown",
   "metadata": {
    "pycharm": {
     "name": "#%% md\n"
    }
   },
   "source": [
    "Retrieve sum of pairs score of a column and whole MSA with respect to given scoring matrix."
   ]
  },
  {
   "cell_type": "code",
   "execution_count": 15,
   "metadata": {
    "pycharm": {
     "is_executing": false,
     "name": "#%%\n"
    }
   },
   "outputs": [
    {
     "name": "stdout",
     "output_type": "stream",
     "text": [
      "SoP column 60: 1113\n",
      "SoP of the alignment: 1806364\n"
     ]
    }
   ],
   "source": [
    "from Bio.SubsMat import MatrixInfo\n",
    "\n",
    "scoring_matrix = MatrixInfo.blosum62\n",
    "\n",
    "print('SoP column 60:', msa.sum_of_pairs_column(60, scoring_matrix))\n",
    "print('SoP of the alignment:', msa.sum_of_pairs(scoring_matrix))"
   ]
  },
  {
   "cell_type": "markdown",
   "metadata": {
    "pycharm": {
     "name": "#%% md\n"
    }
   },
   "source": [
    "#### Conservation determination from multiple aligned sequences"
   ]
  },
  {
   "cell_type": "markdown",
   "metadata": {
    "pycharm": {
     "name": "#%% md\n"
    }
   },
   "source": [
    "You should be able to specify a sequence in the MSA and the method would return conservation scores for the positions of the MSA."
   ]
  },
  {
   "cell_type": "code",
   "execution_count": 16,
   "metadata": {
    "pycharm": {
     "is_executing": false,
     "name": "#%%\n"
    }
   },
   "outputs": [
    {
     "name": "stdout",
     "output_type": "stream",
     "text": [
      "SoP of a substring: 118727\n"
     ]
    }
   ],
   "source": [
    "print('SoP of a substring:', msa.sum_of_pairs(scoring_matrix, start_pos=50, end_pos=100))"
   ]
  },
  {
   "cell_type": "markdown",
   "metadata": {
    "pycharm": {
     "name": "#%% md\n"
    }
   },
   "source": [
    "Moreover, one should be able to identify top N scoring positions in the MSA."
   ]
  },
  {
   "cell_type": "code",
   "execution_count": 17,
   "metadata": {
    "pycharm": {
     "is_executing": false,
     "name": "#%%\n"
    },
    "scrolled": true
   },
   "outputs": [
    {
     "name": "stdout",
     "output_type": "stream",
     "text": [
      "[(74, 15741), (218, 13365), (259, 13365), (328, 13365), (332, 13365), (368, 13365), (370, 13365), (224, 12771), (261, 11880), (283, 11880)]\n"
     ]
    }
   ],
   "source": [
    "print(msa.top_n_scoring_positions(10, scoring_matrix))\n"
   ]
  },
  {
   "cell_type": "markdown",
   "metadata": {},
   "source": [
    "Returns a list of tuples (position, score)."
   ]
  },
  {
   "cell_type": "markdown",
   "metadata": {},
   "source": [
    "# Processing PDB files\n",
    "\n",
    "There is a PDB file parser in BioPython library. However the returned objects, representing the structure do not meet all the \n",
    "requirements specified in this assignment. Therefore I extended the classes with the required functionality and made the parser use them. \n",
    "\n",
    "The parser returns a `Structure` object. A `Structure` always contains at least one `Model`. `Model` contains `Chain`s and they are \n",
    "composed of `Residue`s. These 4 objects are subclasses of `Entity` which provides behavior for this tree structure of objects (possible to\n",
    " enumerate children and to get the parent). \n",
    " \n",
    " `Atom` is the bottom-most object in the hierarchy. \n",
    " \n",
    " Each instance of the 5 types objects has a \n",
    " unique id within its parent (not exactly `Structure` it does not have a parent). Forms of ids: `Model` – serial integer, corresponds to its \n",
    " order in \n",
    " the \n",
    " file; \n",
    " `Chain` – \n",
    " standard one letter code; `Residue` – a triple of a hetero flag (`<space>` for no flag, 'W' for water, 'H' for hetatm), sequence number \n",
    " (integer) and \n",
    " insertion code (`<space>` or\n",
    "  one \n",
    " letter insertion code); `Atom` – atom \n",
    " name ('CA')."
   ]
  },
  {
   "cell_type": "markdown",
   "metadata": {
    "pycharm": {
     "name": "#%% md\n"
    }
   },
   "source": [
    "Parse a PDB file and obtain the structure:"
   ]
  },
  {
   "cell_type": "code",
   "execution_count": 18,
   "metadata": {
    "pycharm": {
     "is_executing": false,
     "name": "#%%\n"
    }
   },
   "outputs": [],
   "source": [
    "import assignments.pdb.pdb as pdb\n",
    "from Bio.PDB import PDBParser\n",
    "\n",
    "pdb.attach_custom_classes_to_pdb_structure_builder()\n",
    "\n",
    "# quiet mutes parser's warning output\n",
    "structure = PDBParser(QUIET=True).get_structure('1tup', 'assignments/pdb/test_data/1tup.pdb')"
   ]
  },
  {
   "cell_type": "markdown",
   "metadata": {
    "pycharm": {
     "is_executing": false,
     "name": "#%% md\n"
    }
   },
   "source": [
    "Get the c alpha atom of residue number 94 in chain A in the first model:"
   ]
  },
  {
   "cell_type": "code",
   "execution_count": 19,
   "metadata": {
    "pycharm": {
     "is_executing": false,
     "name": "#%% \n"
    }
   },
   "outputs": [
    {
     "name": "stdout",
     "output_type": "stream",
     "text": [
      "<Atom CA>\n"
     ]
    }
   ],
   "source": [
    "print(structure[0]['A'][(' ', 94, ' ')]['CA'])"
   ]
  },
  {
   "cell_type": "markdown",
   "metadata": {},
   "source": [
    "Obtain an object representing a model, \n",
    "structure (chain) within a model,\n",
    "residuum within a chain,\n",
    "atom within a residue.\n",
    "\n",
    "(Traversing the tree topology of `Structure` object.)"
   ]
  },
  {
   "cell_type": "code",
   "execution_count": 20,
   "metadata": {
    "pycharm": {
     "is_executing": false,
     "name": "#%%\n"
    }
   },
   "outputs": [
    {
     "name": "stdout",
     "output_type": "stream",
     "text": [
      "<Model id=0>\n",
      "<Chain id=E>\n",
      "number of residues in chain: 43\n",
      "<Chain id=F>\n",
      "number of residues in chain: 35\n",
      "<Chain id=A>\n",
      "number of residues in chain: 395\n",
      "ZN\n",
      "5447\n",
      "('H_ ZN', 951, ' ')\n",
      "<Chain id=B>\n",
      "number of residues in chain: 265\n",
      "ZN\n",
      "5448\n",
      "('H_ ZN', 952, ' ')\n",
      "<Chain id=C>\n",
      "number of residues in chain: 276\n",
      "ZN\n",
      "5449\n",
      "('H_ ZN', 953, ' ')\n"
     ]
    }
   ],
   "source": [
    "for model in structure:\n",
    "    print(model)\n",
    "\n",
    "    for chain in model:\n",
    "        print(chain)\n",
    "        print('number of residues in chain:', len(chain))\n",
    "        \n",
    "        for residue in chain:\n",
    "            if residue.id[0].startswith('H_'):\n",
    "                # is HETATM record\n",
    "                \n",
    "                for atom in residue:\n",
    "                    print(atom.get_name())\n",
    "                    print(atom.get_serial_number())\n",
    "                \n",
    "                print(residue.id)"
   ]
  },
  {
   "cell_type": "markdown",
   "metadata": {},
   "source": [
    "Obtain information about the stored structure (number of models, structures, residues, atoms)."
   ]
  },
  {
   "cell_type": "code",
   "execution_count": 21,
   "metadata": {
    "pycharm": {
     "is_executing": false,
     "name": "#%% \n"
    }
   },
   "outputs": [
    {
     "name": "stdout",
     "output_type": "stream",
     "text": [
      "5\n",
      "5828\n",
      "395\n"
     ]
    }
   ],
   "source": [
    "print(structure.count_chains)\n",
    "print(structure.count_atoms)\n",
    "print(structure[0]['A'].count_residues)"
   ]
  },
  {
   "cell_type": "markdown",
   "metadata": {},
   "source": [
    "<a id='structure_width_cell'></a>\n",
    "\n",
    "Compute the width of the structure – maximum of distance of any two atoms. Takes some time: naive \n",
    "$\\Theta (\\text{#atoms}^2)$ algorithm.\n"
   ]
  },
  {
   "cell_type": "code",
   "execution_count": 22,
   "metadata": {
    "pycharm": {
     "is_executing": true,
     "name": "#%%\n"
    }
   },
   "outputs": [
    {
     "name": "stdout",
     "output_type": "stream",
     "text": [
      "110.07378\n"
     ]
    }
   ],
   "source": [
    "print(pdb.structure_width(structure))\n"
   ]
  },
  {
   "cell_type": "markdown",
   "metadata": {},
   "source": [
    "Obtain list of atoms or residues being in given distance from given ligand (HETATM)"
   ]
  },
  {
   "cell_type": "code",
   "execution_count": 23,
   "metadata": {
    "pycharm": {
     "is_executing": true,
     "name": "#%%\n"
    }
   },
   "outputs": [
    {
     "name": "stdout",
     "output_type": "stream",
     "text": [
      "[(<Atom O5'>, 0.0), (<Atom C5'>, 1.4344189), (<Atom C4'>, 2.4593778), (<Atom CG>, 3.2323287), (<Atom C3'>, 3.3550873), (<Atom O3'>, 3.5640006), (<Atom CB>, 3.6176894), (<Atom O4'>, 3.6445122), (<Atom CA>, 3.932097), (<Atom OG>, 4.161508), (<Atom NE>, 4.4037905), (<Atom CD>, 4.4146547), (<Atom CZ>, 4.4770985), (<Atom NH1>, 4.5479546), (<Atom C2'>, 4.714053), (<Atom C1'>, 4.7431073), (<Atom O>, 4.804691), (<Atom C>, 4.83322), (<Atom N>, 4.8675723), (<Atom CA>, 4.912375), (<Atom CB>, 4.9665666), (<Atom NH2>, 5.051013), (<Atom P>, 5.0910726), (<Atom O>, 5.117413), (<Atom N>, 5.2062144), (<Atom C>, 5.2719526), (<Atom OP1>, 5.477591), (<Atom NH2>, 5.673154), (<Atom O>, 5.730959), (<Atom OP2>, 5.7604446), (<Atom NE>, 5.8461447), (<Atom CZ>, 5.884168), (<Atom O5'>, 5.885547), (<Atom CB>, 5.919022), (<Atom C>, 5.946488), (<Atom N>, 5.991925), (<Atom N1>, 6.013206), (<Atom C>, 6.149049), (<Atom CA>, 6.155915), (<Atom C6>, 6.2738433), (<Atom O>, 6.290737), (<Atom O>, 6.307814), (<Atom NH1>, 6.5389028), (<Atom O>, 6.5442386), (<Atom CD>, 6.545394), (<Atom CG>, 6.6226068), (<Atom N>, 6.721404), (<Atom OG>, 6.8626766), (<Atom CB>, 6.9401283), (<Atom OD2>, 6.987664), (<Atom CA>, 7.0402246), (<Atom CA>, 7.1495643), (<Atom C2>, 7.1715655), (<Atom N>, 7.265342), (<Atom C5'>, 7.2676296), (<Atom O2>, 7.3720374), (<Atom C>, 7.4222574), (<Atom C>, 7.502519), (<Atom C5>, 7.560474), (<Atom CA>, 7.563178), (<Atom O>, 7.580081), (<Atom O4'>, 7.5916286), (<Atom O>, 7.595605), (<Atom C>, 7.6518936), (<Atom N>, 7.653636), (<Atom O>, 7.722961), (<Atom O>, 7.7596917), (<Atom O>, 7.7889037), (<Atom CB>, 7.810369), (<Atom N>, 7.8637524), (<Atom CB>, 7.915649), (<Atom CB>, 7.940913), (<Atom C>, 7.983748), (<Atom CG>, 7.9977016), (<Atom CD>, 8.046968), (<Atom C4'>, 8.080144), (<Atom SG>, 8.125896), (<Atom C7>, 8.160861), (<Atom N>, 8.16667), (<Atom OD1>, 8.268037), (<Atom N>, 8.298007), (<Atom N3>, 8.307191), (<Atom C6>, 8.3130245), (<Atom O>, 8.316948), (<Atom C7>, 8.356692), (<Atom CB>, 8.374586), (<Atom CA>, 8.389883), (<Atom CA>, 8.395561), (<Atom CB>, 8.402105), (<Atom CA>, 8.497773), (<Atom NZ>, 8.498847), (<Atom C>, 8.511012), (<Atom N>, 8.524989), (<Atom CA>, 8.54628), (<Atom C4>, 8.575855), (<Atom C>, 8.621831), (<Atom OE1>, 8.666414), (<Atom C5>, 8.674166), (<Atom CA>, 8.699903), (<Atom C>, 8.7550535), (<Atom CG>, 8.777238), (<Atom C1'>, 8.834911), (<Atom N1>, 8.890252), (<Atom CA>, 8.919477), (<Atom CB>, 8.941125), (<Atom N>, 8.946806), (<Atom CG>, 8.975268), (<Atom O>, 9.024087), (<Atom CB>, 9.030198), (<Atom O>, 9.069328), (<Atom CG>, 9.108127), (<Atom CG>, 9.117877), (<Atom CB>, 9.232303), (<Atom CB>, 9.283678), (<Atom ND2>, 9.335856), (<Atom ND2>, 9.364028), (<Atom C3'>, 9.468569), (<Atom SD>, 9.5027), (<Atom CA>, 9.520361), (<Atom O>, 9.548222), (<Atom CD>, 9.564291), (<Atom CE>, 9.565286), (<Atom CA>, 9.611523), (<Atom CG>, 9.611566), (<Atom O>, 9.631778), (<Atom O>, 9.642107), (<Atom CD>, 9.642425), (<Atom N>, 9.645665), (<Atom N>, 9.652349), (<Atom CB>, 9.660921), (<Atom C4>, 9.669249), (<Atom OD1>, 9.700723), (<Atom N>, 9.757514), (<Atom O4>, 9.767555), (<Atom C2'>, 9.794891), (<Atom C>, 9.805604), (<Atom C2>, 9.845414), (<Atom CE>, 9.8500595)]\n",
      "[(<Residue  DT het=  ch=E resseq=1001 icode= >, 0.0), (<Residue ARG het=  ch=C resseq=248 icode= >, 3.2323287), (<Residue SER het=  ch=C resseq=241 icode= >, 4.161508), (<Residue  DT het=  ch=E resseq=1002 icode= >, 5.0910726), (<Residue SER het=  ch=C resseq=240 icode= >, 5.117413), (<Residue ARG het=  ch=C resseq=273 icode= >, 5.673154), (<Residue HOH het=W ch=C resseq=2299 icode= >, 5.730959), (<Residue ASN het=  ch=C resseq=247 icode= >, 5.946488), (<Residue ARG het=  ch=C resseq=249 icode= >, 5.991925), (<Residue VAL het=  ch=C resseq=274 icode= >, 6.5442386), (<Residue CYS het=  ch=C resseq=275 icode= >, 6.9401283), (<Residue ASP het=  ch=C resseq=281 icode= >, 6.987664), (<Residue CYS het=  ch=C resseq=242 icode= >, 7.265342), (<Residue ASN het=  ch=C resseq=239 icode= >, 7.502519), (<Residue HOH het=W ch=C resseq=2219 icode= >, 7.595605), (<Residue HOH het=W ch=C resseq=2351 icode= >, 7.722961), (<Residue MET het=  ch=C resseq=246 icode= >, 7.7889037), (<Residue PRO het=  ch=C resseq=250 icode= >, 7.8637524), (<Residue HOH het=W ch=C resseq=2280 icode= >, 8.316948), (<Residue LYS het=  ch=C resseq=132 icode= >, 8.498847), (<Residue ALA het=  ch=C resseq=276 icode= >, 8.524989), (<Residue GLU het=  ch=C resseq=285 icode= >, 8.666414), (<Residue MET het=  ch=C resseq=243 icode= >, 8.946806), (<Residue VAL het=  ch=C resseq=272 icode= >, 9.548222), (<Residue HOH het=W ch=C resseq=2109 icode= >, 9.642107)]\n"
     ]
    }
   ],
   "source": [
    "hetero_atoms = list(pdb.get_hetero_atoms(structure))\n",
    "hetatm = hetero_atoms[0]\n",
    "\n",
    "print(pdb.atoms_within_d_to_atom(structure, hetatm, 10))\n",
    "print(pdb.residues_within_d_to_atom(structure, hetatm, 10))"
   ]
  },
  {
   "cell_type": "markdown",
   "metadata": {},
   "source": [
    "# Computing structure-related properties\n",
    "\n",
    "The essential part of this assignment – decision if a particular residue is on surface of, or buried in the protein – can be outsourced\n",
    " to a library method, or one can provide their own method. I have decided to come up with a couple methods myself and compare them with \n",
    " the library method. \n",
    " \n",
    " The library method is installed as a standalone program (instr. in repository's README), but it has a Python wrapper in the BioPython \n",
    " library that makes it work with BioPython's structure objects. Original program description follows:\n",
    "\n",
    "> In a first step, a probe sphere representing a solvent molecule is rolled over the set of spheres, \n",
    "> defining the Reduced Surface (RS). From the reduced surface the analytical model of the Solvent Excluded Surface (SES) is computed. \n",
    "> This analytical surface can be triangulated with a user specified vertex density.\n",
    "\n",
    "The set of spheres (coordinates+radii) is generated from the structure's atoms by the BioPython wrapper and passed as the program's input. \n",
    "The surface is triangulated and returned to the BioPython's wrapper and one can then ask, for example, what is the average depth of a \n",
    "residue (average distance of residue's atoms to the surface) or for the c_alpha depth. \n",
    "At the time I did the programming, most sense for me made determining minimum depth of residue's atoms. The residue should \n",
    "have at least one atom on/close to the triangulated surface – then it could be classified as a surface residue."
   ]
  },
  {
   "cell_type": "code",
   "execution_count": 24,
   "metadata": {
    "pycharm": {
     "is_executing": false,
     "name": "#%%\n"
    },
    "scrolled": false
   },
   "outputs": [
    {
     "data": {
      "image/png": "[encoded data removed]",
      "text/plain": [
       "<Figure size 432x288 with 1 Axes>"
      ]
     },
     "metadata": {
      "needs_background": "light"
     },
     "output_type": "display_data"
    }
   ],
   "source": [
    "import os\n",
    "from matplotlib import pyplot as plt\n",
    "from Bio.PDB import PDBParser, ResidueDepth, get_surface\n",
    "from Bio.PDB.ResidueDepth import min_dist\n",
    "\n",
    "from assignments.pdb.pdb import attach_custom_classes_to_pdb_structure_builder\n",
    "\n",
    "attach_custom_classes_to_pdb_structure_builder()\n",
    "structure = PDBParser(QUIET=True).get_structure('1tup', 'assignments/structure_related_properties/test_data/1tup.pdb')\n",
    "\n",
    "model = next(structure.get_models())\n",
    "\n",
    "\n",
    "from assignments.structure_related_properties.lib import get_model_without_waters\n",
    "\n",
    "# model without hoh for surface analysis (not interested in surface of solvation (water) layer!, only protein)\n",
    "model_without_waters = get_model_without_waters(model)\n",
    "cp_to_original_residue = lambda r: model[r.get_parent().id][r.id]  # gets the corresponding residue in the original model\n",
    "\n",
    "residue_depth = ResidueDepth(model_without_waters)\n",
    "\n",
    "avg_residue_depth = {cp_to_original_residue(r): r_d for r, (r_d, calpha_d) in residue_depth}\n",
    "calpha_residue_depth = {cp_to_original_residue(r): calpha_d for r, (r_d, calpha_d) in residue_depth}\n",
    "\n",
    "surface = get_surface(model_without_waters)    \n",
    "min_dist_to_surface = {r: min(min_dist(atom.get_coord(), surface) for atom in r) for r in model.aa_residues}\n",
    "\n",
    "plt.hist(min_dist_to_surface.values())\n",
    "plt.title('residue depth (closest to the surface atom depth)')\n",
    "plt.show()"
   ]
  },
  {
   "cell_type": "markdown",
   "metadata": {},
   "source": [
    "Note that the residue depth does not start at 0 angstroms. That's because the returned surface is based on the surface of the _spheres_, centered at atoms' coordinates (and depth is the distance to the surface from the atom coordinates). They have different radii, depending on atom type, mostly between 1 and 2 angstroms.\n",
    "\n",
    "For evaluating the structural neighborhood of residues I chose to count in its surroundings: water molecules, residues and atoms. \n",
    "\n",
    "The last two methods in the following code differ from the others a little – of all residue's atom choose the atom with minimum neighbors and return the count for that residue. They have the best correlation with residue's depth measured by the library (will be seen later)."
   ]
  },
  {
   "cell_type": "code",
   "execution_count": 25,
   "metadata": {
    "pycharm": {
     "name": "#%%\n"
    }
   },
   "outputs": [
    {
     "data": {
      "image/png": "[encoded data removed]",
      "text/plain": [
       "<Figure size 432x288 with 1 Axes>"
      ]
     },
     "metadata": {
      "needs_background": "light"
     },
     "output_type": "display_data"
    },
    {
     "data": {
      "image/png": "[encoded data removed]",
      "text/plain": [
       "<Figure size 432x288 with 1 Axes>"
      ]
     },
     "metadata": {
      "needs_background": "light"
     },
     "output_type": "display_data"
    },
    {
     "data": {
      "image/png": "[encoded data removed]",
      "text/plain": [
       "<Figure size 432x288 with 1 Axes>"
      ]
     },
     "metadata": {
      "needs_background": "light"
     },
     "output_type": "display_data"
    }
   ],
   "source": [
    "from assignments.structure_related_properties.lib import *\n",
    "\n",
    "neighboring_water_counts = residues_get_neighboring_water_count(model, model.aa_residues, 3.5)\n",
    "histogram_counts(neighboring_water_counts.values(), 'neighboring water')\n",
    "\n",
    "neighbor_counts = residues_get_neighbor_count(model.aa_residues, 5)\n",
    "histogram_counts(neighbor_counts.values(), 'aa neighbors')\n",
    "\n",
    "neighbor_atom_counts = residues_get_neighbor_atom_count(model.aa_residues, 4.5)\n",
    "histogram_counts(neighbor_atom_counts.values(), 'aa atom neighbors')\n",
    "\n",
    "ratio_water_aas = {res: wc/ac for res, (wc, ac) in zip_mappings(neighboring_water_counts, neighbor_counts)}\n",
    "ratio_water_aa_atoms = {res: wc/aac for res, (wc, aac) in zip_mappings(neighboring_water_counts, neighbor_atom_counts)}\n",
    "\n",
    "residues_min_neighbor_residues_count = residues_get_min_neighbor_residues_count(model.aa_residues, 8.5)\n",
    "residues_min_neighbor_atoms_count = residues_get_min_neighbor_atoms_count(model.aa_residues, 8.5)"
   ]
  },
  {
   "cell_type": "markdown",
   "metadata": {},
   "source": [
    "I measured correlation of those structural-neighborhood methods with the results from the surface-computing library."
   ]
  },
  {
   "cell_type": "code",
   "execution_count": 26,
   "metadata": {},
   "outputs": [
    {
     "name": "stdout",
     "output_type": "stream",
     "text": [
      "[[ 1.          0.93086292  0.90785399 -0.06946207  0.6466452   0.52544156 -0.196897   -0.17374748  0.68933673  0.70641204]\n",
      " [ 0.93086292  1.          0.8087332  -0.01853723  0.62770217  0.51602029 -0.15658783 -0.12606481  0.62502189  0.64725568]\n",
      " [ 0.90785399  0.8087332   1.         -0.09348417  0.46227425  0.34576639 -0.16743996 -0.14855346  0.54564509  0.56600764]\n",
      " [-0.06946207 -0.01853723 -0.09348417  1.          0.00691785 -0.04818904  0.8916267   0.91951683 -0.05484552 -0.07255066]\n",
      " [ 0.6466452   0.62770217  0.46227425  0.00691785  1.          0.80075761 -0.26017425 -0.18944177  0.7896488   0.7805114 ]\n",
      " [ 0.52544156  0.51602029  0.34576639 -0.04818904  0.80075761  1.         -0.26205451 -0.29024273  0.61527546  0.65416953]\n",
      " [-0.196897   -0.15658783 -0.16743996  0.8916267  -0.26017425 -0.26205451  1.          0.95758862 -0.26016253 -0.27827227]\n",
      " [-0.17374748 -0.12606481 -0.14855346  0.91951683 -0.18944177 -0.29024273  0.95758862  1.         -0.20242197 -0.22961092]\n",
      " [ 0.68933673  0.62502189  0.54564509 -0.05484552  0.7896488   0.61527546 -0.26016253 -0.20242197  1.          0.95275234]\n",
      " [ 0.70641204  0.64725568  0.56600764 -0.07255066  0.7805114   0.65416953 -0.27827227 -0.22961092  0.95275234  1.        ]]\n"
     ]
    }
   ],
   "source": [
    "vars = np.transpose([values for k, values in zip_mappings(\n",
    "        # based on surface computing program\n",
    "        avg_residue_depth,\n",
    "        calpha_residue_depth,\n",
    "        min_dist_to_surface,\n",
    "\n",
    "        # my variables\n",
    "        neighboring_water_counts,\n",
    "        neighbor_counts,\n",
    "        neighbor_atom_counts,\n",
    "        ratio_water_aas,\n",
    "        ratio_water_aa_atoms,\n",
    "\n",
    "        residues_min_neighbor_residues_count,\n",
    "        residues_min_neighbor_atoms_count\n",
    "    )])\n",
    "\n",
    "np.set_printoptions(linewidth=200)  # for the large correlation matrix\n",
    "print(np.corrcoef(vars))"
   ]
  },
  {
   "cell_type": "markdown",
   "metadata": {
    "pycharm": {
     "name": "#%% md\n"
    }
   },
   "source": [
    "The last two methods have the best correlation. However that's not the best metric for comparison, see below.\n",
    "\n",
    "The neighboring-water-molecules method does have some results (better seen on the scatter plot below). But 1) just by looking at the structure it's not like the surface is consistently covered with water molecules (probably because of the method – X-ray _crystallography_). However, one might think that at least presence of HOH in neighborhood might indicate that a residue is a surface one. Even this is not the case always, as during chain oligomerization, water molecules get trapped between the chains, thus not on the surface of protein (ok, on the surface of _chains_). In addition, they are also trapped inside the chain, during polypeptide folding (1tup.A.173 valine – three HOH within 3.5 Å, but not on surface of model or chain). The method is not therefore very useful in deciding whether a residue is on surface or not.\n",
    "\n",
    "I decided to also inspect the results with a scatter plot of my and library's methods of rate of 'buriedness'.\n",
    "Provided that the library method is correct enough, with a good method I should see two clusters (surface and buried), that can be \n",
    "    demarcated by two perpendicular lines (each parallel to an axis), this cross would divide the datapoints into four quadrants and \n",
    "    ideally,\n",
    "     only quadrants I (buried) and III (surface) would be occupied, provided that both axes show rate of 'buriedness'."
   ]
  },
  {
   "cell_type": "code",
   "execution_count": 27,
   "metadata": {
    "pycharm": {
     "name": "#%%\n"
    }
   },
   "outputs": [
    {
     "data": {
      "image/png": "[encoded data removed]",
      "text/plain": [
       "<Figure size 432x288 with 1 Axes>"
      ]
     },
     "metadata": {
      "needs_background": "light"
     },
     "output_type": "display_data"
    },
    {
     "data": {
      "image/png": "[encoded data removed]",
      "text/plain": [
       "<Figure size 432x288 with 1 Axes>"
      ]
     },
     "metadata": {
      "needs_background": "light"
     },
     "output_type": "display_data"
    },
    {
     "data": {
      "image/png": "[encoded data removed]",
      "text/plain": [
       "<Figure size 432x288 with 1 Axes>"
      ]
     },
     "metadata": {
      "needs_background": "light"
     },
     "output_type": "display_data"
    },
    {
     "data": {
      "image/png": "[encoded data removed]",
      "text/plain": [
       "<Figure size 432x288 with 1 Axes>"
      ]
     },
     "metadata": {
      "needs_background": "light"
     },
     "output_type": "display_data"
    },
    {
     "data": {
      "image/png": "[encoded data removed]",
      "text/plain": [
       "<Figure size 432x288 with 1 Axes>"
      ]
     },
     "metadata": {
      "needs_background": "light"
     },
     "output_type": "display_data"
    },
    {
     "data": {
      "image/png": "[encoded data removed]",
      "text/plain": [
       "<Figure size 432x288 with 1 Axes>"
      ]
     },
     "metadata": {
      "needs_background": "light"
     },
     "output_type": "display_data"
    },
    {
     "data": {
      "image/png": "[encoded data removed]",
      "text/plain": [
       "<Figure size 432x288 with 1 Axes>"
      ]
     },
     "metadata": {
      "needs_background": "light"
     },
     "output_type": "display_data"
    }
   ],
   "source": [
    "scatter(avg_residue_depth, neighboring_water_counts, 'water_count/avg_depth')\n",
    "scatter(avg_residue_depth, neighbor_counts, 'aa_neighbors/avg_depth')\n",
    "scatter(avg_residue_depth, neighbor_atom_counts, 'neighbor_atoms/avg_depth')\n",
    "scatter(avg_residue_depth, ratio_water_aas, 'ratio_water_aas/avg_depth')\n",
    "scatter(avg_residue_depth, ratio_water_aa_atoms, 'ratio_water_aa_atoms/avg_depth')\n",
    "scatter(avg_residue_depth, residues_min_neighbor_residues_count, 'min_neighbor_res/avg_depth')\n",
    "plt.axvline(x=3.5, lw=0.5)  # some values, just to divide the plot into those quadrants\n",
    "plt.axhline(y=100, lw=0.5)\n",
    "scatter(avg_residue_depth, residues_min_neighbor_atoms_count, 'min_neighbor_atoms/avg_depth')"
   ]
  },
  {
   "cell_type": "markdown",
   "metadata": {
    "pycharm": {
     "name": "#%% md\n"
    }
   },
   "source": [
    "The last two are most promising. However there are some outliers, that would be classified with library method as surface, with mine as \n",
    "buried and vice versa. I tuned the parameter – radius of the neighborhood – with visual inspection of scatters (looking for the two 'rectangular' clusters \n",
    "meeting with a corner). I did inspect both types of the outliers, but I don't really remember \n",
    "the results and it is probably out of scope for this homework. Nevertheless, I will point out some problems I see with the methods.\n",
    "\n",
    "A problem with the atom-count-in-neighborhood is the variability of the value when a surface residue is in cavities/grooves or on \n",
    "the contrary on pointing-out loops. The virtual surface label is the same however.\n",
    "\n",
    "The problem with the library method (that gets the protein surface and depths of residues) is in how it corresponds to the actual idea of \n",
    "deciding whether a residue is surface or buried. In hindsight, I should have had unequivocally defined what a surface residue is – one of its atom spheres touches, or rather contributes _a minimum amount of surface_ to the solvent accessible surface. That's not quite the residue depth, in any of the three variants I have obtained from the library. \n",
    "\n",
    "Unless the touching is enough. In that case, `min_dist_to_surface` would be probably the best method to decide if the residue is surface or buried and I will therefore use it as the arbiter in the following tasks. I set the boundary to 2.3 Å, by looking at the residues in PyMOL.\n",
    "\n",
    "A scatterplot similar to the last one follows (also shows `residues_min_neighbor_atoms_count`), although not with average depth of the residue, but with the minimum depth of its atoms. I added the mentioned surface/buried boundary."
   ]
  },
  {
   "cell_type": "code",
   "execution_count": 28,
   "metadata": {
    "pycharm": {
     "name": "#%%\n"
    },
    "scrolled": false
   },
   "outputs": [
    {
     "data": {
      "image/png": "[encoded data removed]",
      "text/plain": [
       "<Figure size 432x288 with 1 Axes>"
      ]
     },
     "metadata": {
      "needs_background": "light"
     },
     "output_type": "display_data"
    }
   ],
   "source": [
    "plt.axvline(x=2.3, lw=1)  # boundary surface/buried\n",
    "scatter(min_dist_to_surface, residues_min_neighbor_atoms_count, 'min_neighbor_atoms/min_dist_to_surface')"
   ]
  },
  {
   "cell_type": "markdown",
   "metadata": {},
   "source": [
    "### Actual tasks"
   ]
  },
  {
   "cell_type": "markdown",
   "metadata": {
    "pycharm": {
     "name": "#%% md\n"
    }
   },
   "source": [
    "Compute the diameter of the protein – the [solution](#structure_width_cell) is already in assignment Processing PDB files.\n",
    "\n",
    "Compute the ratio of surface and buried amino acids:"
   ]
  },
  {
   "cell_type": "code",
   "execution_count": 29,
   "metadata": {},
   "outputs": [
    {
     "name": "stdout",
     "output_type": "stream",
     "text": [
      "surface/buried:  6.5\n"
     ]
    }
   ],
   "source": [
    "is_surface_fn = lambda aa: is_surface(min_dist_to_surface, aa)\n",
    "\n",
    "ratio_surface_to_buried = get_ratio_surface_to_buried(model, is_surface_fn)\n",
    "print('surface/buried: ', ratio_surface_to_buried)"
   ]
  },
  {
   "cell_type": "markdown",
   "metadata": {},
   "source": [
    "Output a histogram of amino acids composition of buried and exposed amino acids."
   ]
  },
  {
   "cell_type": "code",
   "execution_count": 30,
   "metadata": {},
   "outputs": [
    {
     "data": {
      "image/png": "[encoded data removed]",
      "text/plain": [
       "<Figure size 432x288 with 1 Axes>"
      ]
     },
     "metadata": {
      "needs_background": "light"
     },
     "output_type": "display_data"
    },
    {
     "data": {
      "image/png": "[encoded data removed]",
      "text/plain": [
       "<Figure size 432x288 with 1 Axes>"
      ]
     },
     "metadata": {
      "needs_background": "light"
     },
     "output_type": "display_data"
    }
   ],
   "source": [
    "aa_types_surface = get_aa_counts(filter(is_surface_fn, model.aa_residues))\n",
    "aa_types_buried = get_aa_counts(filter(lambda aa: not is_surface_fn(aa), model.aa_residues))\n",
    "\n",
    "import seaborn as sns\n",
    "# one palette for both histograms\n",
    "aa_types = sorted(set(itertools.chain(aa_types_surface, aa_types_buried)))\n",
    "palette = dict(zip(aa_types, sns.color_palette('husl', len(aa_types))))\n",
    "\n",
    "sns.barplot(*np.transpose(sorted(aa_types_surface.items())), palette=palette).set_title('surface')\n",
    "plt.show()\n",
    "\n",
    "sns.barplot(*np.transpose(sorted(aa_types_buried.items())), palette=palette).set_title('buried')\n",
    "plt.show()"
   ]
  },
  {
   "cell_type": "markdown",
   "metadata": {},
   "source": [
    "(The plots are smaller than they should be (6x4 inches by default), jupyter notebook scales it down, it's probably a bug. Run the following line and redraw the plots to render them bigger. It's a hack and the text and markers are still scaled down.)"
   ]
  },
  {
   "cell_type": "code",
   "execution_count": 31,
   "metadata": {},
   "outputs": [],
   "source": [
    "# plt.rcParams['figure.figsize'] = [12, 8]"
   ]
  },
  {
   "cell_type": "markdown",
   "metadata": {},
   "source": [
    "Quantify portion of polar amino acids in the core and on the surface of the protein. "
   ]
  },
  {
   "cell_type": "code",
   "execution_count": 32,
   "metadata": {},
   "outputs": [
    {
     "name": "stdout",
     "output_type": "stream",
     "text": [
      "Ratio of polar aas buried:  0.2564102564102564\n",
      "Ratio of polar aas surface:  0.7297830374753451\n"
     ]
    }
   ],
   "source": [
    "for aa_counts, location_str in ((aa_types_buried, 'buried'), (aa_types_surface, 'surface')):\n",
    "    polar_count = count_polar_aas(aa_counts)\n",
    "\n",
    "    print(f'Ratio of polar aas {location_str}: ', polar_count/sum((count for count in aa_counts.values())))"
   ]
  },
  {
   "cell_type": "markdown",
   "metadata": {},
   "source": [
    "Use the structures of A2a and caffeine receptor and hemoglobin (1b0b) to quantify the portion surface and buried amino acids and also the portion of polar amino acids from previous task. Do you see any significant differences? If so, try to interpret them. "
   ]
  },
  {
   "cell_type": "code",
   "execution_count": 33,
   "metadata": {},
   "outputs": [
    {
     "name": "stdout",
     "output_type": "stream",
     "text": [
      "defaultdict(<class 'dict'>,\n",
      "            {<Structure id=A2a receptor>: {'Ratio of polar aas buried': 0.5945945945945946,\n",
      "                                           'Ratio of polar aas surface': 0.49264705882352944,\n",
      "                                           'Ratio surface/buried': 7.351351351351352},\n",
      "             <Structure id=hemoglobin>: {'Ratio of polar aas buried': 0.21052631578947367,\n",
      "                                         'Ratio of polar aas surface': 0.7967479674796748,\n",
      "                                         'Ratio surface/buried': 6.473684210526316}})\n"
     ]
    }
   ],
   "source": [
    "a2a = PDBParser(QUIET=True).get_structure('A2a receptor', 'assignments/structure_related_properties/test_data/A2a_receptor.pdb')\n",
    "hemo = PDBParser(QUIET=True).get_structure('hemoglobin', 'assignments/structure_related_properties/test_data/hemoglobin(1b0b).pdb')\n",
    "\n",
    "results = defaultdict(dict)\n",
    "\n",
    "for struct in (a2a, hemo):\n",
    "    model = struct[0]\n",
    "\n",
    "    surface = get_surface(get_model_without_waters(model))\n",
    "    min_dist_to_surface = {r: min(min_dist(atom.get_coord(), surface) for atom in r) for r in model.aa_residues}\n",
    "    is_surface_fn = lambda aa: is_surface(min_dist_to_surface, aa)\n",
    "\n",
    "    results[struct]['Ratio surface/buried'] = get_ratio_surface_to_buried(model, lambda aa: is_surface(min_dist_to_surface, aa))\n",
    "\n",
    "    aa_types_surface = get_aa_counts(filter(is_surface_fn, model.aa_residues))\n",
    "    aa_types_buried = get_aa_counts(filter(lambda aa: not is_surface_fn(aa), model.aa_residues))\n",
    "\n",
    "    for aa_counts, location_str in ((aa_types_buried, 'buried'), (aa_types_surface, 'surface')):\n",
    "        polar_count = count_polar_aas(aa_counts)\n",
    "\n",
    "        results[struct][f'Ratio of polar aas {location_str}'] =  polar_count / sum((count for count in aa_counts.values()))\n",
    "\n",
    "import pprint\n",
    "pprint.pprint(results)"
   ]
  },
  {
   "cell_type": "markdown",
   "metadata": {},
   "source": [
    "__Polarity of amino acids on the surface__\n",
    "\n",
    "Hemoglobin I from clam LUCINA PECTINATA is a monomeric soluble protein. In the clam it is dissolved in a polar fluid hemolymph. Therefore, its surface is predominantly made of polar amino acids (80%).\n",
    "\n",
    "A2a is a G protein-coupled receptor. It contains 7 transmembrane alpha-helices. Its surface is therefore to a large extent in contact with aliphatic chains of phospholipids of lipid bilayer. At those hydrophobic sites, surface is made of compatible hydrophobic amino acids.\n",
    "\n",
    "The receptor also has cytosolic and extracellular parts (thus will also have polar surface there). \n",
    "\n",
    "On the surface of the receptor, as in the crystal structure, we have identified half polar and half non-polar amino acids, no conflict with the reasoning above.\n",
    "\n",
    "__Polarity of amino acids in the core__\n",
    "\n",
    "Hemoglobin has a great ratio of hydrophobic residues in the core. The inner sides of alpha-helices have hydrophobic residues which allow for the protein to fold in a globule in a polar medium.\n",
    "\n",
    "However, A2a receptor has a surprisingly high number of polar residues in the core. That might be to hold the transmembrane helices together in the hydrophobic membrane. Mechanism of receptor's working is a conformational change initiated from outside of the membrane propagating to the intracellular part. That might be a delicate process and predictable structure/orientation of the transmembrane helices might be needed. In a hydrophobic medium, that might be achieved by polar interactions. Also, it seems to me, that polar interactions can be more accurate in this than not-so-specific hydrophobic interactions.\n",
    "\n",
    "__Ratio of counts of surface/buried amino acids__\n",
    "\n",
    "Hemoglobin has a lower ratio of surface to buried amino acids (6.5 vs 7.4 in A2a). It's a globular protein, thus given its volume, its surface is close to minimal. \n",
    "\n",
    "A2a has more elongated, barrel, shape (passes through membrane) and one shorter and one longer non-transmembrane helices, which 'poke' out of the structure. That combined increases the surface/buried counts ratio."
   ]
  },
  {
   "cell_type": "markdown",
   "metadata": {},
   "source": [
    "# Combining structure and sequence\n",
    "\n",
    "In this assignment, we implement a tool which considers user-provided structure and multiple sequence alignment (where one of the sequences corresponds to the provided structure) and show that positions corresponding to the active site are relatively highly conserved. "
   ]
  },
  {
   "cell_type": "code",
   "execution_count": 34,
   "metadata": {
    "scrolled": true
   },
   "outputs": [],
   "source": [
    "import itertools\n",
    "\n",
    "from Bio.PDB import PDBParser\n",
    "\n",
    "from assignments.clustal_parser import parse_clustal\n",
    "from assignments.pdb.pdb import get_hetero_atoms, residues_within_d_to_atom, attach_custom_classes_to_pdb_structure_builder\n",
    "\n",
    "# Read and parse MSA.\n",
    "with open('assignments/combining_structure_sequence/test_data/clustal_assigned') as f:\n",
    "    msa = parse_clustal(f)\n",
    "\n",
    "# load structure, get the model\n",
    "attach_custom_classes_to_pdb_structure_builder()\n",
    "model = PDBParser(QUIET=True).get_structure('1tup', 'assignments/combining_structure_sequence/test_data/1tup.pdb')[0]"
   ]
  },
  {
   "cell_type": "markdown",
   "metadata": {},
   "source": [
    "The structure for this analysis is human tumor suppressor p53 (or the DNA-binding domain) complexed with DNA. The PDB structure file contains three protein chains (homotetrameric in vivo) and two DNA chains.\n",
    "\n",
    "In the MSA, there is a sequence that designates the protein chain (the three chains are identical in sequence). We can therefore run the analysis with any of the polypeptide chains. \n",
    "\n",
    "I will run the analysis for all chains at once, but one may easily modify the snippet below to run it for a specific chain."
   ]
  },
  {
   "cell_type": "code",
   "execution_count": 35,
   "metadata": {},
   "outputs": [],
   "source": [
    "from assignments.combining_structure_sequence.main import *\n",
    "\n",
    "msa_seq = next(filter(lambda seq_record: 'UniRef90_P04637' == seq_record.id, msa)).seq\n",
    "resseq_to_msa_columns = get_resseq_to_msa_columns(msa_seq)  # mapping from structure's residue's sequence identifier\n",
    "\n",
    "# check that sequences from MSA and structure correspond in amino acids\n",
    "for chain_letter in ('A', 'B', 'C'):\n",
    "    chain = model[chain_letter]\n",
    "    assert_chain_aas_correspond_to_msa_seq_aas(list(chain.aa_residues), msa_seq, resseq_to_msa_columns)\n",
    "\n",
    "entity = model  # combines the three polypeptide chains into the dataset at once\n",
    "# entity = model['A'] -- would run the analysis for chain A"
   ]
  },
  {
   "cell_type": "markdown",
   "metadata": {},
   "source": [
    "We will gather all residues that form active sites. That is, they have a hetero atom (small ligand, DNA) within a set distance. "
   ]
  },
  {
   "cell_type": "code",
   "execution_count": 36,
   "metadata": {},
   "outputs": [
    {
     "name": "stdout",
     "output_type": "stream",
     "text": [
      "<Residue LYS het=  ch=B resseq=120 icode= >\n"
     ]
    }
   ],
   "source": [
    "HETATM_WITHIN_A = 2.5  # set 4 angstroms for DNA binding (donor to acceptor, hydrogen non existent in X-ray structures)\n",
    "\n",
    "hetero_atoms = list(get_hetero_atoms(model))  # note that the whole `model`, not the single chain \n",
    "                                              # -- in case we want to include nucleotides (have their own chains)\n",
    "active_site_residues = set()\n",
    "\n",
    "for hetatm in hetero_atoms:\n",
    "    residues_and_distances = residues_within_d_to_atom(entity, hetatm, HETATM_WITHIN_A)  \n",
    "    \n",
    "    active_site_residues.update(r for r, d in residues_and_distances if r.is_aa)\n",
    "    \n",
    "    # debug print residues close to a nucleotide\n",
    "    if len(hetatm.get_parent()) != 1:\n",
    "        # is not one atom hetatm residue (Zn), but probably a nucleotide\n",
    "        for r, d in residues_and_distances:\n",
    "            if r.is_aa:\n",
    "                print(r)\n",
    "\n",
    "\n",
    "non_active_site_residues = list(set(entity.aa_residues).difference(active_site_residues))\n",
    "active_site_residues = list(active_site_residues)  # making it list, next code depends on the order"
   ]
  },
  {
   "cell_type": "markdown",
   "metadata": {},
   "source": [
    "The debug print tells us that just one of the active-site residues within 2.5 angstroms to a hetatm is close to a nucleotide."
   ]
  },
  {
   "cell_type": "markdown",
   "metadata": {},
   "source": [
    "Finally, we will get the conservation rates (SoP score) for the two groups and plot the results."
   ]
  },
  {
   "cell_type": "code",
   "execution_count": 37,
   "metadata": {
    "scrolled": false
   },
   "outputs": [
    {
     "name": "stdout",
     "output_type": "stream",
     "text": [
      "avg conservation active:  12387.153846153846\n",
      "avg conservation non-active:  6127.706293706294\n"
     ]
    },
    {
     "data": {
      "image/png": "[encoded data removed]",
      "text/plain": [
       "<Figure size 432x288 with 1 Axes>"
      ]
     },
     "metadata": {
      "needs_background": "light"
     },
     "output_type": "display_data"
    }
   ],
   "source": [
    "conservation_active = [conservation_rate_of_chain_aa(msa, aa, resseq_to_msa_columns)\n",
    "                       for aa in active_site_residues]\n",
    "\n",
    "conservation_non_active = [conservation_rate_of_chain_aa(msa, aa, resseq_to_msa_columns)\n",
    "                           for aa in non_active_site_residues]\n",
    "\n",
    "import matplotlib.pyplot as plt\n",
    "import seaborn as sns\n",
    "\n",
    "print('avg conservation active: ', sum(conservation_active)/len(conservation_active))\n",
    "print('avg conservation non-active: ', sum(conservation_non_active)/len(conservation_non_active))\n",
    "\n",
    "ax = sns.swarmplot(\n",
    "    x=list(itertools.chain(itertools.repeat(False, len(non_active_site_residues)), itertools.repeat(True, len(active_site_residues)))),\n",
    "    y=list(itertools.chain(conservation_non_active, conservation_active)),\n",
    "    size=2.5\n",
    ")\n",
    "ax.set(xlabel='is active site', ylabel='conservation rate (SoP)')\n",
    "plt.show()"
   ]
  },
  {
   "cell_type": "markdown",
   "metadata": {},
   "source": [
    "We can indeed see relatively higher conservation for the residues forming the active sites. One residue is lower in conservation and that's the only DNA binding residue we get with the 2.5 angstroms setting. All but one active site residues are zinc-binding residues. Zinc is important for the structure of the DNA-binding domain. In all of the homologs of p53 (from different organisms, that's what seems to be in the clustal file).\n",
    "\n",
    "If we run the analysis with 4 angstroms, we start to see more DNA-binding residues. However, their conservation rate is usually lower than of those zinc-binding, it's close to the average of all structure's residues. I looked up if p53 binds to a consensus sequence and it does. But it is not probably the same in all those organisms. The smaller conservation rate could make sense in that DNA undergoes mutations constantly. And such an important protein must mutate with it accordingly (the binding residues), in order for organisms with the mutation to thrive/survive.\n",
    "\n"
   ]
  },
  {
   "cell_type": "markdown",
   "metadata": {
    "pycharm": {
     "name": "#%% md\n"
    }
   },
   "source": [
    "# Structure superposition"
   ]
  },
  {
   "cell_type": "markdown",
   "metadata": {},
   "source": [
    "To superimpose two structures, we will find a mapping between the structures' residues. Then we will translate and rotate one structure, so that the two residues in a pair (from the mapping) are as close to each other as possible. This is achieved by Kabsch algorithm, which calculates the optimal rotation matrix, given a set of point pairs. Usually, residues are represented, as points, by its c alpha coordinates.\n",
    "\n",
    "Finally we will compare calculated superpositions a) where the residues' mapping is obtained by standard sequence alignment, and b) where the mapping-determining sequence alignment has a scoring function that also considers structural neigborhood of the residues. The superpositions will be compared by means of RMSD, that is root-mean-square deviation (of the atom coordinates)."
   ]
  },
  {
   "cell_type": "markdown",
   "metadata": {},
   "source": [
    "First we'll load the two similar structures. I had to choose the most similar structure (from nr-PDB-90 database), which is also an A2a receptor (human), but with a ligand, because the other structures were too dissimilar (I got 20+ RMSD with just sequence alignment and adding structural features didn't really help).\n",
    "\n",
    "Both are single chain structures, so we will be superimposing just those two chains based on alignment of the polypeptides. If we were to superimpose a multimeric protein, we would have to map their corresponding chains, run the alignment for each chain pair and combine the matched c alphas into one point-pair set, which would be used to calculate the optimal rotation, so that RMSD is minimized. "
   ]
  },
  {
   "cell_type": "code",
   "execution_count": 38,
   "metadata": {},
   "outputs": [],
   "source": [
    "from Bio.PDB import PDBParser\n",
    "\n",
    "from assignments.structure_superposition.superposition import *\n",
    "\n",
    "parser = PDBParser()\n",
    "chain1 = parser.get_structure('a2a', 'assignments/structure_superposition/test_data/A2a_receptor.pdb')[0]['A']\n",
    "chain2 = parser.get_structure('3eml', 'assignments/structure_superposition/test_data/3eml.pdb')[0]['A']\n",
    "\n",
    "superposition_rmsds = []"
   ]
  },
  {
   "cell_type": "markdown",
   "metadata": {},
   "source": [
    "The last line initializes a container for superposition RMSD's that we'll use and discuss in the comparison at the end. Another output of this program will be the superimposed structures. More precisely just the first 'a2a' structure with altered coordinates to fit to the orignal '3eml' structure. \n",
    "\n",
    "Thus to see the alignments in PyMOL, for example, load the original '3eml' structure and then the output files (in the working directory) named 'a2a_&lt;alignment method&gt;.pdb'"
   ]
  },
  {
   "cell_type": "markdown",
   "metadata": {},
   "source": [
    "The following snippet will generate the superposition based on standard sequence alignment. We use Blosum62 scoring matrix and implemented variable gap penalty (opening, extension and end gaps)."
   ]
  },
  {
   "cell_type": "code",
   "execution_count": 39,
   "metadata": {},
   "outputs": [
    {
     "name": "stdout",
     "output_type": "stream",
     "text": [
      "warning  2  polypeptides from one chain, extending first pp\n",
      "warning  2  polypeptides from one chain, extending first pp\n",
      "warning  2  polypeptides from one chain, extending first pp\n",
      "warning  2  polypeptides from one chain, extending first pp\n",
      "7.94679558123895 288\n"
     ]
    }
   ],
   "source": [
    "def superposition_with_blosum(chain1, chain2, alignment):\n",
    "    chain1 = chain1.copy()  # will change atom coordinates, so create a new object\n",
    "    pp1, pp2 = map(chain_to_one_pp, (chain1, chain2))\n",
    "\n",
    "    superposition_calphas = superimpose_chain(chain1, pp1, pp2, alignment)\n",
    "\n",
    "    save_structure(single_chain_structure(chain1), 'a2a_blosum_alignment.pdb')\n",
    "    print(superposition_calphas.calculate_rmsd(), superposition_calphas.matched_residues_count)\n",
    "    \n",
    "    superposition_rmsds.append(('blosum_al', list(get_rmsd_sequence_of_superposition(superposition_calphas))))\n",
    "\n",
    "pp1, pp2 = map(chain_to_one_pp, (chain1, chain2))\n",
    "als = Blosum62AlignmentComputer(pp1.get_sequence(), pp2.get_sequence()).compute()\n",
    "\n",
    "# there might be thousands of optimal alignments, take only one (the next ones could be very similar, so it doesn't make sense to\n",
    "# include just n first, not representative anyway)\n",
    "al = next(als)\n",
    "\n",
    "superposition_with_blosum(chain1, chain2, al)"
   ]
  },
  {
   "cell_type": "markdown",
   "metadata": {},
   "source": [
    "Next, we'll employ also structural features in the sequence alignment step. We could use any neighborhood function from assignment [Combining structure and sequence](#Combining-structure-and-sequence). I randomly chose `residues_get_min_neighbor_atoms_count`. \n",
    "\n",
    "The problem was how to come up with a metric that would take two residues and return a structural score to take it into account during the seq. alignment computation. I could have taken the difference and scale it, for example divide it by maximum range, spread, between the residue's neighborhood values in both structures, to obtain 0 in the best case and 1 in the worst. \n",
    "\n",
    "Better, the distribution of neighborhood values can be captured in the metric, if we combined the sets of neighborhood values for residue from both structures and sorted the resulting list, then when asked for a score for struct1.res1 and struct2.res2 we would just count the residues with values in between. The count can then be scaled down by the total count of residues to a number in [0, 1]. Maybe it would be beneficial to aggregate the data from more structures, but I chose this simple approach.\n",
    "\n",
    "In the code below, we output multiple superpositions, each is based on a an seq. alignment with a different weight for the structural score of to-be matched residues. The alignment computer is otherwise derived from the `Blosum62AlignmentComputer` used above."
   ]
  },
  {
   "cell_type": "code",
   "execution_count": 40,
   "metadata": {},
   "outputs": [
    {
     "name": "stdout",
     "output_type": "stream",
     "text": [
      "warning  2  polypeptides from one chain, extending first pp\n",
      "warning  2  polypeptides from one chain, extending first pp\n",
      "processing weight 0.5\n",
      "no of als:  1\n",
      "warning  2  polypeptides from one chain, extending first pp\n",
      "warning  2  polypeptides from one chain, extending first pp\n",
      "5.003725297930205 288\n",
      "processing weight 1\n",
      "no of als:  1\n",
      "warning  2  polypeptides from one chain, extending first pp\n",
      "warning  2  polypeptides from one chain, extending first pp\n",
      "5.003725297930205 288\n",
      "processing weight 2\n",
      "no of als:  1\n",
      "warning  2  polypeptides from one chain, extending first pp\n",
      "warning  2  polypeptides from one chain, extending first pp\n",
      "5.003725297930205 288\n",
      "processing weight 3\n",
      "no of als:  1\n",
      "warning  2  polypeptides from one chain, extending first pp\n",
      "warning  2  polypeptides from one chain, extending first pp\n",
      "5.003725297930205 288\n",
      "processing weight 4\n",
      "no of als:  1\n",
      "warning  2  polypeptides from one chain, extending first pp\n",
      "warning  2  polypeptides from one chain, extending first pp\n",
      "5.003725297930205 288\n",
      "processing weight 10\n",
      "no of als:  1\n",
      "warning  2  polypeptides from one chain, extending first pp\n",
      "warning  2  polypeptides from one chain, extending first pp\n",
      "5.003725297930205 288\n",
      "processing weight 2000\n",
      "no of als:  1\n",
      "warning  2  polypeptides from one chain, extending first pp\n",
      "warning  2  polypeptides from one chain, extending first pp\n",
      "25.999028799212073 308\n"
     ]
    }
   ],
   "source": [
    "def superposition_with_blosum_and_structural_features(chain1, chain2):\n",
    "    polypeptide1, polypeptide2 = map(chain_to_one_pp, (chain1, chain2))\n",
    "\n",
    "    residues_min_neighbor_count = residues_get_min_neighbor_atoms_count(polypeptide1, 8.5)\n",
    "    residues_min_neighbor_count.update(residues_get_min_neighbor_atoms_count(polypeptide2, 8.5))\n",
    "\n",
    "    min_neighbor_res_count_metric = StructuralFeatureMetric(residues_min_neighbor_count)\n",
    "\n",
    "    for structural_score_weight in (0.5, 1, 2, 3, 4, 10, 2000):\n",
    "        print('processing weight', structural_score_weight)\n",
    "\n",
    "        als = StructuralFeaturesSequenceAlignmentComputer(polypeptide1.get_sequence(),\n",
    "                                                          polypeptide2.get_sequence(),\n",
    "                                                          polypeptide1,\n",
    "                                                          polypeptide2,\n",
    "                                                          [(min_neighbor_res_count_metric, structural_score_weight)],\n",
    "                                                          1).compute()\n",
    "        \n",
    "        # structural alignments like this have usually just one optimal alignment, just to see it ourselves:\n",
    "        als = list(als)\n",
    "        print('no of als: ', len(als))\n",
    "        alignment = als[0]\n",
    "\n",
    "        ch1 = chain1.copy()  # deep copying  chain1, because we will alter the coordinates to form the superposition\n",
    "        pp1, pp2 = map(chain_to_one_pp, (ch1, chain2))\n",
    "\n",
    "        superposition_calphas = superimpose_chain(ch1, pp1, pp2, alignment)\n",
    "\n",
    "        save_structure(single_chain_structure(ch1), f'a2a_blosum_alignment_structural_features_{structural_score_weight}.pdb')\n",
    "        print(superposition_calphas.calculate_rmsd(), superposition_calphas.matched_residues_count)\n",
    "\n",
    "        superposition_rmsds.append((f'blosum_struct_al{structural_score_weight}',\n",
    "                                    list(get_rmsd_sequence_of_superposition(superposition_calphas))))\n",
    "\n",
    "\n",
    "superposition_with_blosum_and_structural_features(chain1, chain2)"
   ]
  },
  {
   "cell_type": "markdown",
   "metadata": {},
   "source": [
    "The comparison of the superpositions follows. Besides looking at the output structures in PyMOL and checking the RMSDs and matched residues count, I wanted to compare the superpositions even if the matched residues count is different. Is a superposition with 150 matched residues and RMSD of 5 angstroms better than a superposition with 200 matched residues and RMSD of 7.5 angstroms? What if some residues are matched (unfortunately), and their deviation is enormous in comparison to the rest of residues, which would make on their own a good superposition with good RMSD?\n",
    "\n",
    "Therefore I decided to generate a sequence of RMSDs for a superposition, n-th item computed as an RMSD of n atom pairs with the lowest deviation of all superposition's pairs. In the line plot below, you can see the RMSD sequences for all the superpositions computed above. "
   ]
  },
  {
   "cell_type": "code",
   "execution_count": 41,
   "metadata": {},
   "outputs": [
    {
     "data": {
      "image/png": "[encoded data removed]",
      "text/plain": [
       "<Figure size 432x288 with 1 Axes>"
      ]
     },
     "metadata": {
      "needs_background": "light"
     },
     "output_type": "display_data"
    }
   ],
   "source": [
    "import seaborn as sns\n",
    "from matplotlib import pyplot as plt\n",
    "\n",
    "x, y = np.transpose(list(itertools.chain(*(enumerate(values, start=1) for name, values in superposition_rmsds))))\n",
    "\n",
    "sns.lineplot(x=x, y=y, hue=[name for name, values in superposition_rmsds for _ in values])\n",
    "plt.show()"
   ]
  },
  {
   "cell_type": "markdown",
   "metadata": {},
   "source": [
    "We see that the structural neighborhood alone (at least the single method tested) does not produce a good superposition (`blosum_struct_al2000`, substitution matrix scores negligible in comparison with the 2000x scaled structural score). \n",
    "\n",
    "However, reasonably weighing in the structural neighborhood in the standard sequence alignment with Blosum62 (in the hindsight with those particular structures I probably should have used a higher similarity matrix), lead to a superposition that had significantly lower RMSD that of just standard sequence alignment (5 vs 8 angstroms), with the same number of matched residues (288).\n",
    "\n",
    "In the chart we can see that the problem with `blosum_al` is that there are a few residues that are an unfortunate match. Other than that superposition would have a similar RMSD to the structure-weighed-in-alignment superpositions.\n",
    "\n",
    "Looking in PyMOL, one cannot really see much difference between the 5 Å RMSD superpositions and the 8 Å `blosum_al`. That might be because a shift in matching residues in a occurred (gaps moved) and suddenly paired residues were more far apart (in a different turn in a helix or further in a loop), but somehow the shift didn't have much rotational and translational potential. Comparison of the sequence alignments and observation of the residues having the largest deviation in PyMOL would explain it more properly."
   ]
  }
 ],
 "metadata": {
  "kernelspec": {
   "display_name": "bioinfo_venv",
   "language": "python",
   "name": "bioinfo_venv"
  },
  "language_info": {
   "codemirror_mode": {
    "name": "ipython",
    "version": 3
   },
   "file_extension": ".py",
   "mimetype": "text/x-python",
   "name": "python",
   "nbconvert_exporter": "python",
   "pygments_lexer": "ipython3",
   "version": "3.7.3"
  },
  "pycharm": {
   "stem_cell": {
    "cell_type": "raw",
    "metadata": {
     "collapsed": false
    },
    "source": []
   }
  }
 },
 "nbformat": 4,
 "nbformat_minor": 4
}
