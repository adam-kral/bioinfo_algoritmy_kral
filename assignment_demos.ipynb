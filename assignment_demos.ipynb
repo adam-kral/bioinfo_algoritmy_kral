{
 "cells": [
  {
   "cell_type": "markdown",
   "metadata": {},
   "source": [
    "Preface, how to use"
   ]
  },
  {
   "cell_type": "markdown",
   "metadata": {},
   "source": [
    "each module contains examples in if __name__ == '__main__' runnable with python -m assignments.module_name or assignments.package.module_name.\n",
    "\n",
    "Also comments in the code/possibly self-explanatory\n",
    "\n",
    "This just compiles the examples in one file and provides some comments."
   ]
  },
  {
   "cell_type": "markdown",
   "metadata": {},
   "source": [
    "# Sequence alignment using edit distance\n"
   ]
  },
  {
   "cell_type": "markdown",
   "metadata": {},
   "source": [
    "### and alignment module"
   ]
  },
  {
   "cell_type": "markdown",
   "metadata": {},
   "source": [
    "You can get all optimal alignments w.r.t. edit distance with `EditDistanceComputer`. It is a subclass of `AlignmentComputer`. I had to create my own generic alignment computer for assignment 9 (structure superposition) because of the requirement of a specialized match function called with arguments allowing it identify a specific residue. It was not possible with BioPython's alignment library functions.\n",
    "\n",
    "The alignment reconstruction is done by saving the optimal step(s) to a scoring matrix cell (`paths` matrix) during the computation of the scoring matrix. It wasn't possible to reconstruct the alignments in O(n+m) time just by using the scoring matrix when more complex gap/match score functions were employed (e.g. gap extensions vs gap opening). It could be done with this simple edit distance metric, but since I had to redo it anyway due to assignment 9, I replaced the old code with the generic alignment computer."
   ]
  },
  {
   "cell_type": "code",
   "execution_count": 13,
   "metadata": {
    "pycharm": {
     "is_executing": false
    },
    "scrolled": true
   },
   "outputs": [
    {
     "name": "stdout",
     "output_type": "stream",
     "text": [
      "----clock---\n",
      "overclocking\n",
      "distance: 7.0\n",
      "\n"
     ]
    }
   ],
   "source": [
    "from assignments.edit_distance import EditDistanceComputer\n",
    "\n",
    "alignments = EditDistanceComputer(\"clock\", \"overclocking\").compute()\n",
    "for al in alignments:\n",
    "    print(al)\n",
    "    print('distance:', al.distance)\n",
    "    print()"
   ]
  },
  {
   "cell_type": "markdown",
   "metadata": {},
   "source": [
    "In the case above and below there is only one optimal alignment (corresponding to the smallest distance, that is the least insert/delete/replace operations to turn one sequence into another)."
   ]
  },
  {
   "cell_type": "code",
   "execution_count": 14,
   "metadata": {
    "pycharm": {
     "is_executing": false
    }
   },
   "outputs": [
    {
     "name": "stdout",
     "output_type": "stream",
     "text": [
      "clock-\n",
      "-lacks\n",
      "distance: 3.0\n",
      "\n"
     ]
    }
   ],
   "source": [
    "alignments = EditDistanceComputer(\"clock\", \"lacks\").compute()\n",
    "for al in alignments:\n",
    "    print(al)\n",
    "    print('distance:', al.distance)\n",
    "    print()"
   ]
  },
  {
   "cell_type": "markdown",
   "metadata": {},
   "source": [
    "There are more optimal alignments in the following example:"
   ]
  },
  {
   "cell_type": "code",
   "execution_count": 15,
   "metadata": {
    "pycharm": {
     "is_executing": false
    },
    "scrolled": false
   },
   "outputs": [],
   "source": [
    "alignments = EditDistanceComputer(\"pitbull\", \"mr.worldwide\").compute()"
   ]
  },
  {
   "cell_type": "markdown",
   "metadata": {},
   "source": [
    "Yet not too many, so I it is possible to get all of them and put them into a list:"
   ]
  },
  {
   "cell_type": "code",
   "execution_count": 16,
   "metadata": {
    "pycharm": {
     "is_executing": false
    }
   },
   "outputs": [
    {
     "name": "stdout",
     "output_type": "stream",
     "text": [
      "There are 31 optimal alignments: \n",
      "\n",
      "pitbull-----\n",
      "mr.worldwide\n",
      "distance: 11.0\n",
      "\n",
      "pitbu-ll----\n",
      "mr.worldwide\n",
      "distance: 11.0\n",
      "\n",
      "pitb-ull----\n",
      "mr.worldwide\n",
      "distance: 11.0\n",
      "\n",
      "pit-bull----\n",
      "mr.worldwide\n",
      "distance: 11.0\n",
      "\n",
      "pi-tbull----\n",
      "mr.worldwide\n",
      "distance: 11.0\n",
      "\n",
      "p-itbull----\n",
      "mr.worldwide\n",
      "distance: 11.0\n",
      "\n",
      "-pitbull----\n",
      "mr.worldwide\n",
      "distance: 11.0\n",
      "\n",
      "pitbu-l-l---\n",
      "mr.worldwide\n",
      "distance: 11.0\n",
      "\n",
      "pitb-ul-l---\n",
      "mr.worldwide\n",
      "distance: 11.0\n",
      "\n",
      "pit-bul-l---\n",
      "mr.worldwide\n",
      "distance: 11.0\n",
      "\n",
      "pi-tbul-l---\n",
      "mr.worldwide\n",
      "distance: 11.0\n",
      "\n",
      "p-itbul-l---\n",
      "mr.worldwide\n",
      "distance: 11.0\n",
      "\n",
      "-pitbul-l---\n",
      "mr.worldwide\n",
      "distance: 11.0\n",
      "\n",
      "pitbu-l--l--\n",
      "mr.worldwide\n",
      "distance: 11.0\n",
      "\n",
      "pitb-ul--l--\n",
      "mr.worldwide\n",
      "distance: 11.0\n",
      "\n",
      "pit-bul--l--\n",
      "mr.worldwide\n",
      "distance: 11.0\n",
      "\n",
      "pi-tbul--l--\n",
      "mr.worldwide\n",
      "distance: 11.0\n",
      "\n",
      "p-itbul--l--\n",
      "mr.worldwide\n",
      "distance: 11.0\n",
      "\n",
      "-pitbul--l--\n",
      "mr.worldwide\n",
      "distance: 11.0\n",
      "\n",
      "pitbu-l---l-\n",
      "mr.worldwide\n",
      "distance: 11.0\n",
      "\n",
      "pitb-ul---l-\n",
      "mr.worldwide\n",
      "distance: 11.0\n",
      "\n",
      "pit-bul---l-\n",
      "mr.worldwide\n",
      "distance: 11.0\n",
      "\n",
      "pi-tbul---l-\n",
      "mr.worldwide\n",
      "distance: 11.0\n",
      "\n",
      "p-itbul---l-\n",
      "mr.worldwide\n",
      "distance: 11.0\n",
      "\n",
      "-pitbul---l-\n",
      "mr.worldwide\n",
      "distance: 11.0\n",
      "\n",
      "pitbu-l----l\n",
      "mr.worldwide\n",
      "distance: 11.0\n",
      "\n",
      "pitb-ul----l\n",
      "mr.worldwide\n",
      "distance: 11.0\n",
      "\n",
      "pit-bul----l\n",
      "mr.worldwide\n",
      "distance: 11.0\n",
      "\n",
      "pi-tbul----l\n",
      "mr.worldwide\n",
      "distance: 11.0\n",
      "\n",
      "p-itbul----l\n",
      "mr.worldwide\n",
      "distance: 11.0\n",
      "\n",
      "-pitbul----l\n",
      "mr.worldwide\n",
      "distance: 11.0\n",
      "\n"
     ]
    }
   ],
   "source": [
    "alignments = list(alignments)\n",
    "print(f'There are {len(alignments)} optimal alignments: ')\n",
    "print()\n",
    "\n",
    "for al in reversed(alignments):  # it looks better when iterating in reverse\n",
    "    print(al)\n",
    "    print('distance:', al.distance)\n",
    "    print()"
   ]
  },
  {
   "cell_type": "markdown",
   "metadata": {},
   "source": [
    "# Processing FASTA files"
   ]
  },
  {
   "cell_type": "markdown",
   "metadata": {},
   "source": [
    "BioPython library function `SeqIO.parse`, returns `SeqRecord` object already possessing the abilities required in this assignment: "
   ]
  },
  {
   "cell_type": "markdown",
   "metadata": {},
   "source": [
    "Read in a FASTA files with an arbitrary number of molecules. `parse_fasta` calls BioPython's `SeqIO.parse` and passes 'fasta' as the argument for file format. "
   ]
  },
  {
   "cell_type": "code",
   "execution_count": 4,
   "metadata": {
    "pycharm": {
     "is_executing": false
    }
   },
   "outputs": [],
   "source": [
    "import os\n",
    "from assignments.fasta import parse_fasta\n",
    "\n",
    "seq_records = list(parse_fasta('assignments/fasta/test_data/seq1.fasta'))\n",
    "\n",
    "seq_record = seq_records[0]"
   ]
  },
  {
   "cell_type": "markdown",
   "metadata": {},
   "source": [
    "Obtain description/sequence of any molecules"
   ]
  },
  {
   "cell_type": "code",
   "execution_count": 5,
   "metadata": {
    "pycharm": {
     "is_executing": false
    }
   },
   "outputs": [
    {
     "name": "stdout",
     "output_type": "stream",
     "text": [
      "NM_018189.3 Homo sapiens developmental pluripotency associated 4 (DPPA4), transcript variant 1, mRNA\n",
      "\n",
      "AAGTGGGAGGAGACTTTGCAAATAGCAATCTTGGGGCAGGGGCCATTTTGGAAGCATGTTGCGAGGCTCCGCTTCTTCTACAAGTATGGAGAAGGCAAAAGGCAAGGAGTGGACCTCCACAGAGAAGTCGAGGGAAGAGGATCAGCAGGCTTCTAATCAACCAAATTCAATTGCTTTGCCAGGAACATCAGCAAAGAGAACCAAAGAAAAAATGTCTATCAAAGGCAGTAAAGTGCTCTGCCCTAAGAAAAAGGCAGAGCACACTGACAACCCCAGACCTCAGAAGAAGATACCAATCCCTCCATTACCTTCTAAACTGCCACCTGTTAATCTGATTCACCGGGACATTCTGCGGGCCTGGTGCCAACAATTGAAGCTGAGCTCCAAAGGCCAGAAATTGGATGCATATAAGCGCCTGTGTGCCTTTGCCTACCCAAATCAAAAGGATTTTCCTAGCACAGCAAAAGAGGCCAAAATCCGGAAATCATTGCAAAAAAAATTAAAGGTGGAAAAGGGGGAAACGTCCCTGCAAAGTTCTGAGACACATCCTCCTGAAGTGGCTCTTCCTCCTGTGGGGGAGCCGCCTGCCCTGGAAAATTCCACTGCTCTCCTTGAGGGAGTTAATACAGTTGTGGTGACAACTTCTGCCCCAGAGGCTTTGCTGGCCTCCTGGGCGAGAATTTCAGCCAGGGCGAGGACACCAGAGGCAGTGGAATCTCCACAAGAGGCCTCTGGTGTCAGGTGGTGTGTGGTCCATGGGAAAAGTCTCCCTGCAGACACAGATGGTTGGGTTCACCTGCAGTTTCATGCTGGTCAAGCCTGGGTTCCAGAAAAGCAAGAAGGGAGAGTGAGTGCACTCTTCTTGCTTCCTGCCTCCAATTTTCCACCCCCGCACCTTGAAGACAATATGTTGTGCCCCAAATGTGTTCACAGGAACAAGGTCTTAATAAAAAGCCTCCAATGGGAATAGAATATCAGGAAAAAGGCCACATCTATGGTAATTAATGGCAGAAAAGCTGGAGAGTTGGATTCTGCGGTGCTGCTGACAGGTGAACTCTGGTCCTCTGCACCTGTTTATGGGCCATGCAGACTGGTGGGGTGGCAGATGTTAGCCTAAGACCCCTAGCAGTGCCTGTTGCTTTGTGAGTGGAGATAGAGACTCTTACATTTAAAAATGGAAAAACATTTCACAAATTACCATAAATTGTAGTTAATATGTAGAAAAACTCATTCATACTACTTTTCTAAAATAGACATGACTTCAGCAGCAGCTTTTTTTTGTTGTATTTTGAGACAGTGTCTCACTGTTGCCCAGGCTGGAGTGCAGTGGTGCAATCTCAGTTCAGTGCAATCTCCGCCTCCTGGGTTCAAATGATTCTCCTGCCTCAGCCTCCTGAGTAGCTAGGTACAGGCACCTGCCACCACACCCAGCTAATTTTTTGTATTTTTAGTAGAGATGGGGTTTCACCATGTTGGCCAGGTTGGTCTCAAACTCCTGGACTCAAGTGATCACCCTCCTCAGCCTCCCAAAATGCTGGGACTATGGGCATGAGCCCCTGCGCCTGACCTTCAACAGCTCTTTTAAGTGAGTTCTTCAGCTAAGCATTGTGATGGACTTGAGTAAAATGGTAGTTGGCTCTTGTGCTCAATTTTCTCTTCCTCTGAACACTGACTACTTTAGGAGCTGCTTCATTCCAATTGCAATTTCATAAAACGTAAAGTATTTTAAGGCAAAGAAAGGCTGTTAATTCCCTCCCTCCCCCAAACACATGATTTTTAATATTCTAAACAATATTTTTCAAAGTTCTCTTAATAACCTGAGATTTCTATGGTTTGACTCCAGGATCAAAACACAAGGGACTTTGTATTATTTCACTTATAATTGTTTTGTATATTTCTGGAGTTTAAAATGTTTAAGGTTGCTTCCCGCTCATAAATACATAATATATTGAATTTAAAATGTGTTTATTAACCGATTCTCCATAAATAAAAATAAGATGTGTATGTAAAATAATTCATCTGTTGTATTTAGAGAACCATATTCATTGCATGCAAATTTTATTGTTAGTGTTCTTAACTCAAGTAGGAGTAAACCAAAAAGTGTGATTTTTCTTTTGTATGACTCGTTTGTTCTTTATTAGTTGGTGGTATGGGTTGGATCATTTGTTTTTAAAACTACTTAGGTATGATTCACATACAAAAAGCTGCACATATTTAATGTATCCTATTGTGTAATTAATTTTTAATTTTTTTGTGTACTTCCTAAACTTATAGTCCTGCGAGTCTGGGAACAGATCTGTTTTTCACTTATCCTGATTTAATGACAGTTTCCAACATTGTTTTGTTATTACAAGTAGGGGATCTTTTTTTTTGCCCGTTTAATGAAGATACTAAAAATAATGCACTGGAAGGAGTGGAAGAGTTGGAAAATTTGTAACCATCATAATACAGGTGTAATAGGTTTGGGAAAGAATCCTCAAAAATGTTAAAGCAAGGGAGGAAAGTTTGTTGAGAAGCAAGATGTTCTTCTCTCCTGCCCGCCCCCGCCGTTGGTTGTTGGTGGTCAGAATTATTGTGTAATAAATAATAGACATTTTTTCTTATACTATGTGTATTGTTCCTTTTGTTTCCTTTTTAAACTTCTCCCCTGCTTTATTTGGATGGGTCAAGTTTCTGTTCTGTTTCCTTCCTTTCTATTAATTTGGAAATGTCCTTGGCTTTACGATTCTGCTTGTAGATACTTCCCCTGCTTCTAACACATTTCAATAAACTTAAATTTCTCTATATACAAAATAAATTAATAATTGGAGTCTACCAAAAAAA\n"
     ]
    }
   ],
   "source": [
    "print(seq_record.description)\n",
    "print()\n",
    "print(seq_record.seq)\n"
   ]
  },
  {
   "cell_type": "markdown",
   "metadata": {},
   "source": [
    "Return sequence length for given sequence"
   ]
  },
  {
   "cell_type": "code",
   "execution_count": 19,
   "metadata": {
    "pycharm": {
     "is_executing": false
    }
   },
   "outputs": [
    {
     "data": {
      "text/plain": [
       "2823"
      ]
     },
     "execution_count": 19,
     "metadata": {},
     "output_type": "execute_result"
    }
   ],
   "source": [
    "len(seq_record.seq)"
   ]
  },
  {
   "cell_type": "markdown",
   "metadata": {},
   "source": [
    "Return subsequence of given sequence"
   ]
  },
  {
   "cell_type": "code",
   "execution_count": 20,
   "metadata": {
    "pycharm": {
     "is_executing": false
    }
   },
   "outputs": [
    {
     "data": {
      "text/plain": [
       "Seq('GTGGGAGG', SingleLetterAlphabet())"
      ]
     },
     "execution_count": 20,
     "metadata": {},
     "output_type": "execute_result"
    }
   ],
   "source": [
    "seq_record.seq[2:10]"
   ]
  },
  {
   "cell_type": "markdown",
   "metadata": {},
   "source": [
    "# Measuring sequence similarity using Hamming distance"
   ]
  },
  {
   "cell_type": "code",
   "execution_count": 7,
   "metadata": {
    "pycharm": {
     "is_executing": false
    }
   },
   "outputs": [],
   "source": [
    "from assignments.hamming import hamming_distance"
   ]
  },
  {
   "cell_type": "code",
   "execution_count": 22,
   "metadata": {
    "pycharm": {
     "is_executing": false
    }
   },
   "outputs": [
    {
     "name": "stdout",
     "output_type": "stream",
     "text": [
      "0\n",
      "2\n",
      "5\n",
      "0\n"
     ]
    }
   ],
   "source": [
    "print(hamming_distance('abcd', 'abcd'))\n",
    "print(hamming_distance('abcd', 'bbcw'))\n",
    "print(hamming_distance('clock', 'lacks'))\n",
    "\n",
    "seq_record = next(parse_fasta('assignments/fasta/test_data/seq1.fasta'))\n",
    "print(hamming_distance(seq_record.seq, seq_record.seq))"
   ]
  },
  {
   "cell_type": "markdown",
   "metadata": {},
   "source": [
    "Calling the function with two strings of different lengths raises an exception:"
   ]
  },
  {
   "cell_type": "code",
   "execution_count": 11,
   "metadata": {
    "pycharm": {
     "is_executing": false
    }
   },
   "outputs": [
    {
     "name": "stdout",
     "output_type": "stream",
     "text": [
      "Exception caught\n"
     ]
    }
   ],
   "source": [
    "try:\n",
    "    hamming_distance('ab', 'a')\n",
    "except Exception as e:\n",
    "    print('Exception caught')"
   ]
  },
  {
   "cell_type": "markdown",
   "metadata": {},
   "source": [
    "# Processing multiple sequence alignment"
   ]
  },
  {
   "cell_type": "markdown",
   "metadata": {},
   "source": [
    "Written CLUSTAL  Parser based on http://meme-suite.org/doc/clustalw-format.html specs."
   ]
  },
  {
   "cell_type": "markdown",
   "metadata": {
    "pycharm": {
     "name": "#%% md\n"
    }
   },
   "source": [
    "Read and parse MSA."
   ]
  },
  {
   "cell_type": "code",
   "execution_count": 24,
   "metadata": {
    "pycharm": {
     "is_executing": false,
     "name": "#%%\n"
    }
   },
   "outputs": [
    {
     "name": "stdout",
     "output_type": "stream",
     "text": [
      "Alphabet() alignment with 55 rows and 530 columns\n",
      "M-------------------------------------------...DSD UniRef90_A0A151\n",
      "--------------------------------------------...DSE UniRef90_K7G3P4\n",
      "--------------------------------------------...DSE UniRef90_UPI000\n",
      "--------------------------------------------...GSE UniRef90_UPI000\n",
      "--------------------------------------------...DSD UniRef90_L7NCR5\n",
      "--------------------------------------------...DSD UniRef90_Q0GMA7\n",
      "--------------------------------------------...DSD UniRef90_C0PUM1\n",
      "--------------------------------------------...DSD UniRef90_UPI000\n",
      "--------------------------------------------...DSD UniRef90_F5A7P3\n",
      "--------------------------------------------...DSD UniRef90_O93379\n",
      "--------------------------------------------...DSD UniRef90_Q9W678\n",
      "--------------------------------------------...DSD UniRef90_UPI000\n",
      "--------------------------------------------...DSD UniRef90_P25035\n",
      "--------------------------------------------...DSD UniRef90_UPI000\n",
      "--------------------------------------------...DSD UniRef90_W5N8V4\n",
      "--------------------------------------------...DSD UniRef90_UPI000\n",
      "--------------------------------------------...GGG UniRef90_H3B1Z4\n",
      "MLGNSPARVECEPGGSGQGSRGIRVLPEARIGETVSFSCSCGNG...DSD UniRef90_UPI000\n",
      "...\n",
      "--------------------------------------------...DSD UniRef90_G3WS63\n"
     ]
    }
   ],
   "source": [
    "from assignments.clustal_parser import parse_clustal\n",
    "\n",
    "with open('assignments/clustal_parser/test_data/clustal_assigned') as f:\n",
    "    msa = parse_clustal(f)\n",
    "\n",
    "print(msa)"
   ]
  },
  {
   "cell_type": "markdown",
   "metadata": {
    "pycharm": {
     "name": "#%% md\n"
    }
   },
   "source": [
    "Retrieve sequence by its position (but not by ID which is not unique in the assigned input data)"
   ]
  },
  {
   "cell_type": "code",
   "execution_count": 25,
   "metadata": {
    "pycharm": {
     "is_executing": false,
     "name": "#%%\n"
    }
   },
   "outputs": [
    {
     "name": "stdout",
     "output_type": "stream",
     "text": [
      "ID: UniRef90_A0A151\n",
      "Name: UniRef90_A0A151\n",
      "Description: UniRef90_A0A151\n",
      "Number of features: 0\n",
      "Seq('M-----------------------------------------------RQMESI...DSD')\n"
     ]
    }
   ],
   "source": [
    "print(msa[0])"
   ]
  },
  {
   "cell_type": "markdown",
   "metadata": {
    "pycharm": {
     "name": "#%% md\n"
    }
   },
   "source": [
    "Retrieve given column from the MSA"
   ]
  },
  {
   "cell_type": "code",
   "execution_count": 26,
   "metadata": {
    "pycharm": {
     "is_executing": false,
     "name": "#%%\n"
    }
   },
   "outputs": [
    {
     "name": "stdout",
     "output_type": "stream",
     "text": [
      "DGGGM--EMM--NNP-SSL-TNGSSSSSSSSGSSSSSSSGNNSTSSS-SSN-SD-\n"
     ]
    }
   ],
   "source": [
    "print(msa[:,60])"
   ]
  },
  {
   "cell_type": "markdown",
   "metadata": {
    "pycharm": {
     "name": "#%% md\n"
    }
   },
   "source": [
    "Retrieve sum of pairs score of a column and whole MSA with respect to given scoring matrix."
   ]
  },
  {
   "cell_type": "code",
   "execution_count": 27,
   "metadata": {
    "pycharm": {
     "is_executing": false,
     "name": "#%%\n"
    }
   },
   "outputs": [
    {
     "name": "stdout",
     "output_type": "stream",
     "text": [
      "SoP column 60: 1113\n",
      "SoP of the alignment: 1806364\n"
     ]
    }
   ],
   "source": [
    "from Bio.SubsMat import MatrixInfo\n",
    "\n",
    "scoring_matrix = MatrixInfo.blosum62\n",
    "\n",
    "print('SoP column 60:', msa.sum_of_pairs_column(60, scoring_matrix))\n",
    "print('SoP of the alignment:', msa.sum_of_pairs(scoring_matrix))"
   ]
  },
  {
   "cell_type": "markdown",
   "metadata": {
    "pycharm": {
     "name": "#%% md\n"
    }
   },
   "source": [
    "#### Conservation determination from multiple aligned sequences"
   ]
  },
  {
   "cell_type": "markdown",
   "metadata": {
    "pycharm": {
     "name": "#%% md\n"
    }
   },
   "source": [
    "You should be able to specify a sequence in the MSA and the method would return conservation scores for the positions of the MSA."
   ]
  },
  {
   "cell_type": "code",
   "execution_count": 28,
   "metadata": {
    "pycharm": {
     "is_executing": false,
     "name": "#%%\n"
    }
   },
   "outputs": [
    {
     "name": "stdout",
     "output_type": "stream",
     "text": [
      "SoP of a substring: 118727\n"
     ]
    }
   ],
   "source": [
    "print('SoP of a substring:', msa.sum_of_pairs(scoring_matrix, start_pos=50, end_pos=100))"
   ]
  },
  {
   "cell_type": "markdown",
   "metadata": {
    "pycharm": {
     "name": "#%% md\n"
    }
   },
   "source": [
    "Moreover, one should be able to identify top N scoring positions in the MSA."
   ]
  },
  {
   "cell_type": "code",
   "execution_count": 29,
   "metadata": {
    "pycharm": {
     "is_executing": false,
     "name": "#%%\n"
    },
    "scrolled": true
   },
   "outputs": [
    {
     "name": "stdout",
     "output_type": "stream",
     "text": [
      "[(74, 15741), (218, 13365), (259, 13365), (328, 13365), (332, 13365), (368, 13365), (370, 13365), (224, 12771), (261, 11880), (283, 11880)]\n"
     ]
    }
   ],
   "source": [
    "print(msa.top_n_scoring_positions(10, scoring_matrix))\n"
   ]
  },
  {
   "cell_type": "markdown",
   "metadata": {},
   "source": [
    "Returns a list of tuples (position, score)."
   ]
  },
  {
   "cell_type": "markdown",
   "metadata": {},
   "source": [
    "# Processing PDB files\n",
    "\n",
    "There is a PDB file parser in BioPython library. However the returned objects, representing the structure do not meet all the \n",
    "requirements specified in this assignment. Therefore I extended the classes with the required functionality and made the parser use them. \n",
    "\n",
    "The parser returns a `Structure` object. A `Structure` always contains at least one `Model`. `Model` contains `Chain`s and they are \n",
    "composed of `Residue`s. These 4 objects are subclasses of `Entity` which provides behavior for this tree structure of objects (possible to\n",
    " enumerate children and to get the parent). \n",
    " \n",
    " `Atom` is the bottom-most object in the hierarchy. \n",
    " \n",
    " Each instance of the 5 types objects has a \n",
    " unique id within its parent (not exactly `Structure` it does not have a parent). Forms of ids: `Model` -- serial integer, corresponds to its \n",
    " order in \n",
    " the \n",
    " file; \n",
    " `Chain` -- \n",
    " standard one letter code; `Residue` -- a triple of a hetero flag (`<space>` for no flag, 'W' for water, 'H' for hetatm), sequence number \n",
    " (integer) and \n",
    " insertion code (`<space>` or\n",
    "  one \n",
    " letter insertion code); `Atom` -- atom \n",
    " name ('CA')."
   ]
  },
  {
   "cell_type": "markdown",
   "metadata": {
    "pycharm": {
     "name": "#%% md\n"
    }
   },
   "source": [
    "Parse a PDB file and obtain the structure:"
   ]
  },
  {
   "cell_type": "code",
   "execution_count": 4,
   "metadata": {
    "pycharm": {
     "is_executing": false,
     "name": "#%%\n"
    }
   },
   "outputs": [],
   "source": [
    "import assignments.pdb.pdb as pdb\n",
    "from Bio.PDB import PDBParser\n",
    "\n",
    "pdb.attach_custom_classes_to_pdb_structure_builder()\n",
    "\n",
    "# quiet mutes parser's warning output\n",
    "structure = PDBParser(QUIET=True).get_structure('1tup', 'assignments/pdb/test_data/1tup.pdb')"
   ]
  },
  {
   "cell_type": "markdown",
   "metadata": {
    "pycharm": {
     "is_executing": false,
     "name": "#%% md\n"
    }
   },
   "source": [
    "Get the c alpha atom of residue number 94 in chain A in the first model:"
   ]
  },
  {
   "cell_type": "code",
   "execution_count": 5,
   "metadata": {
    "pycharm": {
     "is_executing": false,
     "name": "#%% \n"
    }
   },
   "outputs": [
    {
     "name": "stdout",
     "output_type": "stream",
     "text": [
      "<Atom CA>\n"
     ]
    }
   ],
   "source": [
    "print(structure[0]['A'][(' ', 94, ' ')]['CA'])"
   ]
  },
  {
   "cell_type": "markdown",
   "metadata": {},
   "source": [
    "Obtain an object representing a model, \n",
    "structure (chain) within a model,\n",
    "residuum within a chain,\n",
    "atom within a residue.\n",
    "\n",
    "(Traversing the tree topology of `Structure` object.)"
   ]
  },
  {
   "cell_type": "code",
   "execution_count": 6,
   "metadata": {
    "pycharm": {
     "is_executing": false,
     "name": "#%%\n"
    }
   },
   "outputs": [
    {
     "name": "stdout",
     "output_type": "stream",
     "text": [
      "<Model id=0>\n",
      "<Chain id=E>\n",
      "number of residues in chain: 43\n",
      "<Chain id=F>\n",
      "number of residues in chain: 35\n",
      "<Chain id=A>\n",
      "number of residues in chain: 395\n",
      "ZN\n",
      "5447\n",
      "('H_ ZN', 951, ' ')\n",
      "<Chain id=B>\n",
      "number of residues in chain: 265\n",
      "ZN\n",
      "5448\n",
      "('H_ ZN', 952, ' ')\n",
      "<Chain id=C>\n",
      "number of residues in chain: 276\n",
      "ZN\n",
      "5449\n",
      "('H_ ZN', 953, ' ')\n"
     ]
    }
   ],
   "source": [
    "for model in structure:\n",
    "    print(model)\n",
    "\n",
    "    for chain in model:\n",
    "        print(chain)\n",
    "        print('number of residues in chain:', len(chain))\n",
    "        \n",
    "        for residue in chain:\n",
    "            if residue.id[0].startswith('H_'):\n",
    "                # is HETATM record\n",
    "                \n",
    "                for atom in residue:\n",
    "                    print(atom.get_name())\n",
    "                    print(atom.get_serial_number())\n",
    "                \n",
    "                print(residue.id)"
   ]
  },
  {
   "cell_type": "markdown",
   "metadata": {},
   "source": [
    "Obtain information about the stored structure (number of models, structures, residues, atoms)."
   ]
  },
  {
   "cell_type": "code",
   "execution_count": 31,
   "metadata": {
    "pycharm": {
     "is_executing": false,
     "name": "#%% \n"
    }
   },
   "outputs": [
    {
     "name": "stdout",
     "output_type": "stream",
     "text": [
      "5\n",
      "5828\n",
      "395\n"
     ]
    }
   ],
   "source": [
    "print(structure.count_chains)\n",
    "print(structure.count_atoms)\n",
    "print(structure[0]['A'].count_residues)"
   ]
  },
  {
   "cell_type": "markdown",
   "metadata": {},
   "source": [
    "<a id='structure_width_cell'></a>\n",
    "\n",
    "Compute the width of the structure -- maximum of distance of any two atoms. Takes some time: naive \n",
    "$\\Theta (\\text{#atoms}^2)$ algorithm.\n"
   ]
  },
  {
   "cell_type": "code",
   "execution_count": null,
   "metadata": {
    "pycharm": {
     "is_executing": true,
     "name": "#%%\n"
    }
   },
   "outputs": [],
   "source": [
    "print(pdb.structure_width(structure))\n"
   ]
  },
  {
   "cell_type": "markdown",
   "metadata": {},
   "source": [
    "Obtain list of atoms or residues being in given distance from given ligand (HETATM)"
   ]
  },
  {
   "cell_type": "code",
   "execution_count": null,
   "metadata": {
    "pycharm": {
     "is_executing": true,
     "name": "#%%\n"
    }
   },
   "outputs": [],
   "source": [
    "hetero_atoms = list(pdb.get_hetero_atoms(structure))\n",
    "hetatm = hetero_atoms[0]\n",
    "\n",
    "print(pdb.atoms_within_d_to_atom(structure, hetatm, 10))\n",
    "print(pdb.residues_within_d_to_atom(structure, hetatm, 10))"
   ]
  },
  {
   "cell_type": "markdown",
   "metadata": {},
   "source": [
    "# Computing structure-related properties\n",
    "\n",
    "The essential part of this assignment -- decision if a particular residue is on surface of, or buried in the protein -- can be outsourced\n",
    " to a library method, or one can provide their own method. I have decided to come up with a couple methods myself and compare them with \n",
    " the library method. \n",
    " \n",
    " The library method is installed as a standalone program (instr. in repository's README), but it has a Python wrapper in the BioPython \n",
    " library that makes it work with BioPython's structure objects. Original program description follows:\n",
    "\n",
    "> In a first step, a probe sphere representing a solvent molecule is rolled over the set of spheres, \n",
    "> defining the Reduced Surface (RS). From the reduced surface the analytical model of the Solvent Excluded Surface (SES) is computed. \n",
    "> This analytical surface can be triangulated with a user specified vertex density.\n",
    "\n",
    "The set of spheres (coordinates+radii) is generated from the structure's atoms by the BioPython wrapper and passed as the program's input. \n",
    "The surface is triangulated and returned to the BioPython's wrapper and one can then ask, for example, what is the average depth of a \n",
    "residue (average distance of residue's atoms to the surface) or for the c_alpha depth. \n",
    "At the time I did the programming, most sense for me made determining minimum depth of residue's atoms. The residue should \n",
    "have at least one atom on/close to the triangulated surface -- then it could be classified as a surface residue."
   ]
  },
  {
   "cell_type": "code",
   "execution_count": 1,
   "metadata": {
    "pycharm": {
     "is_executing": false,
     "name": "#%%\n"
    },
    "scrolled": true
   },
   "outputs": [
    {
     "data": {
      "image/png": "[encoded data removed]",
      "text/plain": [
       "<Figure size 432x288 with 1 Axes>"
      ]
     },
     "metadata": {
      "needs_background": "light"
     },
     "output_type": "display_data"
    }
   ],
   "source": [
    "import os\n",
    "from matplotlib import pyplot as plt\n",
    "from Bio.PDB import PDBParser, ResidueDepth, get_surface\n",
    "from Bio.PDB.ResidueDepth import min_dist\n",
    "\n",
    "# # on my computer the plots were 2x smaller in the jupyter notebook somehow (probably web+retina)\n",
    "# print(plt.rcParams['figure.figsize'])\n",
    "# plt.rcParams['figure.figsize'] = list(map(lambda x: x*2, plt.rcParams['figure.figsize']))\n",
    "\n",
    "from assignments.pdb.pdb import attach_custom_classes_to_pdb_structure_builder\n",
    "\n",
    "attach_custom_classes_to_pdb_structure_builder()\n",
    "structure = PDBParser(QUIET=True).get_structure('1tup', 'assignments/structure_related_properties/test_data/1tup.pdb')\n",
    "\n",
    "model = next(structure.get_models())\n",
    "\n",
    "\n",
    "from assignments.structure_related_properties.lib import get_model_without_waters\n",
    "\n",
    "# model without hoh for surface analysis (not interested in surface of solvation (water) layer!, only protein)\n",
    "model_without_waters = get_model_without_waters(model)\n",
    "cp_to_original_residue = lambda r: model[r.get_parent().id][r.id]  # gets the corresponding residue in the original model\n",
    "\n",
    "residue_depth = ResidueDepth(model_without_waters)\n",
    "\n",
    "avg_residue_depth = {cp_to_original_residue(r): r_d for r, (r_d, calpha_d) in residue_depth}\n",
    "calpha_residue_depth = {cp_to_original_residue(r): calpha_d for r, (r_d, calpha_d) in residue_depth}\n",
    "\n",
    "surface = get_surface(model_without_waters)    \n",
    "min_dist_to_surface = {r: min(min_dist(atom.get_coord(), surface) for atom in r) for r in model.aa_residues}\n",
    "\n",
    "plt.hist(min_dist_to_surface.values())\n",
    "plt.title('residue depth (closest to the surface atom depth)')\n",
    "plt.show()"
   ]
  },
  {
   "cell_type": "markdown",
   "metadata": {},
   "source": [
    "Note that the residue depth does not start at 0 angstroms. That's because the returned surface is based on the surface of the _spheres_, centered at atoms' coordinates (and depth is the distance to the surface from the atom coordinates). They have different radii, depending on atom type, mostly between 1 and 2 angstroms.\n",
    "\n",
    "For evaluating the structural neighborhood of residues I chose to count in its surroundings: water molecules, residues and atoms. \n",
    "\n",
    "The last two methods in the following code differ from the others a little -- of all residue's atom choose the atom with minimum neighbors and return the count for that residue. They have the best correlation with residue's depth measured by the library (will be seen later)."
   ]
  },
  {
   "cell_type": "code",
   "execution_count": 2,
   "metadata": {
    "pycharm": {
     "name": "#%%\n"
    }
   },
   "outputs": [
    {
     "data": {
      "image/png": "[encoded data removed]",
      "text/plain": [
       "<Figure size 432x288 with 1 Axes>"
      ]
     },
     "metadata": {
      "needs_background": "light"
     },
     "output_type": "display_data"
    },
    {
     "data": {
      "image/png": "[encoded data removed]",
      "text/plain": [
       "<Figure size 432x288 with 1 Axes>"
      ]
     },
     "metadata": {
      "needs_background": "light"
     },
     "output_type": "display_data"
    },
    {
     "data": {
      "image/png": "[encoded data removed]",
      "text/plain": [
       "<Figure size 432x288 with 1 Axes>"
      ]
     },
     "metadata": {
      "needs_background": "light"
     },
     "output_type": "display_data"
    }
   ],
   "source": [
    "from assignments.structure_related_properties.lib import *\n",
    "\n",
    "neighboring_water_counts = residues_get_neighboring_water_count(model, model.aa_residues, 3.5)\n",
    "histogram_counts(neighboring_water_counts.values(), 'neighboring water')\n",
    "\n",
    "neighbor_counts = residues_get_neighbor_count(model.aa_residues, 5)\n",
    "histogram_counts(neighbor_counts.values(), 'aa neighbors')\n",
    "\n",
    "neighbor_atom_counts = residues_get_neighbor_atom_count(model.aa_residues, 4.5)\n",
    "histogram_counts(neighbor_atom_counts.values(), 'aa atom neighbors')\n",
    "\n",
    "ratio_water_aas = {res: wc/ac for res, (wc, ac) in zip_mappings(neighboring_water_counts, neighbor_counts)}\n",
    "ratio_water_aa_atoms = {res: wc/aac for res, (wc, aac) in zip_mappings(neighboring_water_counts, neighbor_atom_counts)}\n",
    "\n",
    "residues_min_neighbor_residues_count = residues_get_min_neighbor_residues_count(model.aa_residues, 8.5)\n",
    "residues_min_neighbor_atoms_count = residues_get_min_neighbor_atoms_count(model.aa_residues, 8.5)"
   ]
  },
  {
   "cell_type": "markdown",
   "metadata": {},
   "source": [
    "I measured correlation of those structural-neighborhood methods with the results from the surface-computing library."
   ]
  },
  {
   "cell_type": "code",
   "execution_count": 3,
   "metadata": {},
   "outputs": [
    {
     "name": "stdout",
     "output_type": "stream",
     "text": [
      "[[ 1.          0.93086292  0.90785399 -0.06946207  0.6466452   0.52544156 -0.196897   -0.17374748  0.68933673  0.70641204]\n",
      " [ 0.93086292  1.          0.8087332  -0.01853723  0.62770217  0.51602029 -0.15658783 -0.12606481  0.62502189  0.64725568]\n",
      " [ 0.90785399  0.8087332   1.         -0.09348417  0.46227425  0.34576639 -0.16743996 -0.14855346  0.54564509  0.56600764]\n",
      " [-0.06946207 -0.01853723 -0.09348417  1.          0.00691785 -0.04818904  0.8916267   0.91951683 -0.05484552 -0.07255066]\n",
      " [ 0.6466452   0.62770217  0.46227425  0.00691785  1.          0.80075761 -0.26017425 -0.18944177  0.7896488   0.7805114 ]\n",
      " [ 0.52544156  0.51602029  0.34576639 -0.04818904  0.80075761  1.         -0.26205451 -0.29024273  0.61527546  0.65416953]\n",
      " [-0.196897   -0.15658783 -0.16743996  0.8916267  -0.26017425 -0.26205451  1.          0.95758862 -0.26016253 -0.27827227]\n",
      " [-0.17374748 -0.12606481 -0.14855346  0.91951683 -0.18944177 -0.29024273  0.95758862  1.         -0.20242197 -0.22961092]\n",
      " [ 0.68933673  0.62502189  0.54564509 -0.05484552  0.7896488   0.61527546 -0.26016253 -0.20242197  1.          0.95275234]\n",
      " [ 0.70641204  0.64725568  0.56600764 -0.07255066  0.7805114   0.65416953 -0.27827227 -0.22961092  0.95275234  1.        ]]\n"
     ]
    }
   ],
   "source": [
    "vars = np.transpose([values for k, values in zip_mappings(\n",
    "        # based on surface computing program\n",
    "        avg_residue_depth,\n",
    "        calpha_residue_depth,\n",
    "        min_dist_to_surface,\n",
    "\n",
    "        # my variables\n",
    "        neighboring_water_counts,\n",
    "        neighbor_counts,\n",
    "        neighbor_atom_counts,\n",
    "        ratio_water_aas,\n",
    "        ratio_water_aa_atoms,\n",
    "\n",
    "        residues_min_neighbor_residues_count,\n",
    "        residues_min_neighbor_atoms_count\n",
    "    )])\n",
    "\n",
    "print(np.corrcoef(vars))"
   ]
  },
  {
   "cell_type": "markdown",
   "metadata": {
    "pycharm": {
     "name": "#%% md\n"
    }
   },
   "source": [
    "The last two methods have the best correlation. However that's not the best metric for comparison, see below.\n",
    "\n",
    "The neighboring-water-molecules method does have some results (better seen on the scatter plot below). But 1) just by looking at the structure it's not like the surface is consistently covered with water molecules (probably because of the method -- X-ray _crystallography_). However, one might think that at least presence of HOH in neighborhood might indicate that a residue is a surface one. Even this is not the case always, as during chain oligomerization, water molecules get trapped between the chains, thus not on the surface of protein (ok, on the surface of _chains_). In addition, they are also trapped inside the chain, during polypeptide folding (1tup.A.173 valine -- three HOH within 3.5 Å, but not on surface of model or chain). The method is not therefore very useful in deciding whether a residue is on surface or not.\n",
    "\n",
    "I decided to also inspect the results with a scatter plot of my and library's methods of rate of 'buriedness'.\n",
    "Provided that the library method is correct enough, with a good method I should see two clusters (surface and buried), that can be \n",
    "    demarcated by two perpendicular lines (each parallel to an axis), this cross would divide the datapoints into four quadrants and \n",
    "    ideally,\n",
    "     only quadrants I (buried) and III (surface) would be occupied, provided that both axes show rate of 'buriedness'."
   ]
  },
  {
   "cell_type": "code",
   "execution_count": 4,
   "metadata": {
    "pycharm": {
     "name": "#%%\n"
    }
   },
   "outputs": [
    {
     "data": {
      "image/png": "[encoded data removed]",
      "text/plain": [
       "<Figure size 432x288 with 1 Axes>"
      ]
     },
     "metadata": {
      "needs_background": "light"
     },
     "output_type": "display_data"
    },
    {
     "data": {
      "image/png": "[encoded data removed]",
      "text/plain": [
       "<Figure size 432x288 with 1 Axes>"
      ]
     },
     "metadata": {
      "needs_background": "light"
     },
     "output_type": "display_data"
    },
    {
     "data": {
      "image/png": "[encoded data removed]",
      "text/plain": [
       "<Figure size 432x288 with 1 Axes>"
      ]
     },
     "metadata": {
      "needs_background": "light"
     },
     "output_type": "display_data"
    },
    {
     "data": {
      "image/png": "[encoded data removed]",
      "text/plain": [
       "<Figure size 432x288 with 1 Axes>"
      ]
     },
     "metadata": {
      "needs_background": "light"
     },
     "output_type": "display_data"
    },
    {
     "data": {
      "image/png": "[encoded data removed]",
      "text/plain": [
       "<Figure size 432x288 with 1 Axes>"
      ]
     },
     "metadata": {
      "needs_background": "light"
     },
     "output_type": "display_data"
    },
    {
     "data": {
      "image/png": "[encoded data removed]",
      "text/plain": [
       "<Figure size 432x288 with 1 Axes>"
      ]
     },
     "metadata": {
      "needs_background": "light"
     },
     "output_type": "display_data"
    },
    {
     "data": {
      "image/png": "[encoded data removed]",
      "text/plain": [
       "<Figure size 432x288 with 1 Axes>"
      ]
     },
     "metadata": {
      "needs_background": "light"
     },
     "output_type": "display_data"
    }
   ],
   "source": [
    "scatter(avg_residue_depth, neighboring_water_counts, 'water_count/avg_depth')\n",
    "scatter(avg_residue_depth, neighbor_counts, 'aa_neighbors/avg_depth')\n",
    "scatter(avg_residue_depth, neighbor_atom_counts, 'neighbor_atoms/avg_depth')\n",
    "scatter(avg_residue_depth, ratio_water_aas, 'ratio_water_aas/avg_depth')\n",
    "scatter(avg_residue_depth, ratio_water_aa_atoms, 'ratio_water_aa_atoms/avg_depth')\n",
    "scatter(avg_residue_depth, residues_min_neighbor_residues_count, 'min_neighbor_res/avg_depth')\n",
    "plt.axvline(x=3.5, lw=0.5)  # some values, just to divide the plot into those quadrants\n",
    "plt.axhline(y=100, lw=0.5)\n",
    "scatter(avg_residue_depth, residues_min_neighbor_atoms_count, 'min_neighbor_atoms/avg_depth')"
   ]
  },
  {
   "cell_type": "markdown",
   "metadata": {
    "pycharm": {
     "name": "#%% md\n"
    }
   },
   "source": [
    "The last two are most promising. However there are some outliers, that would be classified with library method as surface, with mine as \n",
    "buried and vice versa. I tuned the parameter -- radius of the neighborhood -- with visual inspection of scatters (looking for the two 'rectangular' clusters \n",
    "meeting with a corner). I did inspect both types of the outliers, but I don't really remember \n",
    "the results and it is probably out of scope for this homework. Nevertheless, I will point out some problems I see with the methods.\n",
    "\n",
    "A problem with the atom-count-in-neighborhood is the variability of the value when a surface residue is in cavities/grooves or on \n",
    "the contrary on pointing-out loops. The virtual surface label is the same however.\n",
    "\n",
    "The problem with the library method (that gets the protein surface and depths of residues) is in how it corresponds to the actual idea of \n",
    "deciding whether a residue is surface or buried. In hindsight, I should have had unequivocally defined what a surface residue is -- one of its atom spheres touches, or rather contributes _a minimum amount of surface_ to the solvent accessible surface. That's not quite the residue depth, in any of the three variants I have obtained from the library. \n",
    "\n",
    "Unless the touching is enough. In that case, `min_dist_to_surface` would be probably the best method to decide if the residue is surface or buried and I will therefore use it as the arbiter in the following tasks. I set the boundary to 2.3 Å, by looking at the residues in PyMOL.\n",
    "\n",
    "A scatterplot similar to the last one follows (also shows `residues_min_neighbor_atoms_count`), although not with average depth of the residue, but with the minimum depth of its atoms. I added the mentioned surface/buried boundary."
   ]
  },
  {
   "cell_type": "code",
   "execution_count": 5,
   "metadata": {
    "pycharm": {
     "name": "#%%\n"
    },
    "scrolled": false
   },
   "outputs": [
    {
     "data": {
      "image/png": "[encoded data removed]",
      "text/plain": [
       "<Figure size 432x288 with 1 Axes>"
      ]
     },
     "metadata": {
      "needs_background": "light"
     },
     "output_type": "display_data"
    }
   ],
   "source": [
    "plt.axvline(x=2.3, lw=1)  # boundary surface/buried\n",
    "scatter(min_dist_to_surface, residues_min_neighbor_atoms_count, 'min_neighbor_atoms/min_dist_to_surface')"
   ]
  },
  {
   "cell_type": "markdown",
   "metadata": {},
   "source": [
    "### Actual tasks"
   ]
  },
  {
   "cell_type": "markdown",
   "metadata": {
    "pycharm": {
     "name": "#%% md\n"
    }
   },
   "source": [
    "Compute the diameter of the protein -- the [solution](#structure_width_cell) is already in task Processing PDB files.\n",
    "\n",
    "Compute the ratio of surface and buried amino acids."
   ]
  },
  {
   "cell_type": "code",
   "execution_count": 6,
   "metadata": {},
   "outputs": [
    {
     "name": "stdout",
     "output_type": "stream",
     "text": [
      "surface/buried:  6.5\n"
     ]
    }
   ],
   "source": [
    "is_surface_fn = lambda aa: is_surface(min_dist_to_surface, aa)\n",
    "\n",
    "ratio_surface_to_buried = get_ratio_surface_to_buried(model, is_surface_fn)\n",
    "print('surface/buried: ', ratio_surface_to_buried)"
   ]
  },
  {
   "cell_type": "markdown",
   "metadata": {},
   "source": [
    "Output a histogram of amino acids composition of buried and exposed amino acids."
   ]
  },
  {
   "cell_type": "code",
   "execution_count": 7,
   "metadata": {},
   "outputs": [
    {
     "data": {
      "image/png": "[encoded data removed]",
      "text/plain": [
       "<Figure size 432x288 with 1 Axes>"
      ]
     },
     "metadata": {
      "needs_background": "light"
     },
     "output_type": "display_data"
    },
    {
     "data": {
      "image/png": "[encoded data removed]",
      "text/plain": [
       "<Figure size 432x288 with 1 Axes>"
      ]
     },
     "metadata": {
      "needs_background": "light"
     },
     "output_type": "display_data"
    }
   ],
   "source": [
    "aa_types_surface = get_aa_counts(filter(is_surface_fn, model.aa_residues))\n",
    "aa_types_buried = get_aa_counts(filter(lambda aa: not is_surface_fn(aa), model.aa_residues))\n",
    "\n",
    "import seaborn as sns\n",
    "# one palette for both histograms\n",
    "aa_types = sorted(set(itertools.chain(aa_types_surface, aa_types_buried)))\n",
    "palette = dict(zip(aa_types, sns.color_palette('husl', len(aa_types))))\n",
    "\n",
    "sns.barplot(*np.transpose(sorted(aa_types_surface.items())), palette=palette).set_title('surface')\n",
    "plt.show()\n",
    "\n",
    "sns.barplot(*np.transpose(sorted(aa_types_buried.items())), palette=palette).set_title('buried')\n",
    "plt.show()"
   ]
  },
  {
   "cell_type": "markdown",
   "metadata": {},
   "source": [
    "Quantify portion of polar amino acids in the core and on the surface of the protein. "
   ]
  },
  {
   "cell_type": "code",
   "execution_count": 16,
   "metadata": {},
   "outputs": [
    {
     "name": "stdout",
     "output_type": "stream",
     "text": [
      "Ratio of polar aas buried:  0.21052631578947367\n",
      "Ratio of polar aas surface:  0.7967479674796748\n"
     ]
    }
   ],
   "source": [
    "for aa_counts, location_str in ((aa_types_buried, 'buried'), (aa_types_surface, 'surface')):\n",
    "    polar_count = count_polar_aas(aa_counts)\n",
    "\n",
    "    print(f'Ratio of polar aas {location_str}: ', polar_count/sum((count for count in aa_counts.values())))"
   ]
  },
  {
   "cell_type": "markdown",
   "metadata": {},
   "source": [
    "Use the structures of A2a and caffeine receptor and hemoglobin (1b0b) to quantify the portion surface and buried amino acids and also the portion of polar amino acids from previous task. Do you see any significant differences? If so, try to interpret them. "
   ]
  },
  {
   "cell_type": "code",
   "execution_count": 17,
   "metadata": {},
   "outputs": [
    {
     "name": "stdout",
     "output_type": "stream",
     "text": [
      "defaultdict(<class 'dict'>,\n",
      "            {<Structure id=A2a receptor>: {'Ratio of polar aas buried': 0.5945945945945946,\n",
      "                                           'Ratio of polar aas surface': 0.49264705882352944,\n",
      "                                           'Ratio surface to buried': 7.351351351351352},\n",
      "             <Structure id=hemoglobin>: {'Ratio of polar aas buried': 0.21052631578947367,\n",
      "                                         'Ratio of polar aas surface': 0.7967479674796748,\n",
      "                                         'Ratio surface to buried': 6.473684210526316}})\n"
     ]
    }
   ],
   "source": [
    "a2a = PDBParser(QUIET=True).get_structure('A2a receptor', 'assignments/structure_related_properties/test_data/A2a_receptor.pdb')\n",
    "hemo = PDBParser(QUIET=True).get_structure('hemoglobin', 'assignments/structure_related_properties/test_data/hemoglobin(1b0b).pdb')\n",
    "\n",
    "results = defaultdict(dict)\n",
    "\n",
    "for struct in (a2a, hemo):\n",
    "    model = struct[0]\n",
    "\n",
    "    surface = get_surface(get_model_without_waters(model))\n",
    "    min_dist_to_surface = {r: min(min_dist(atom.get_coord(), surface) for atom in r) for r in model.aa_residues}\n",
    "    is_surface_fn = lambda aa: is_surface(min_dist_to_surface, aa)\n",
    "\n",
    "    results[struct]['Ratio surface/buried'] = get_ratio_surface_to_buried(model, lambda aa: is_surface(min_dist_to_surface, aa))\n",
    "\n",
    "    aa_types_surface = get_aa_counts(filter(is_surface_fn, model.aa_residues))\n",
    "    aa_types_buried = get_aa_counts(filter(lambda aa: not is_surface_fn(aa), model.aa_residues))\n",
    "\n",
    "    for aa_counts, location_str in ((aa_types_buried, 'buried'), (aa_types_surface, 'surface')):\n",
    "        polar_count = count_polar_aas(aa_counts)\n",
    "\n",
    "        results[struct][f'Ratio of polar aas {location_str}'] =  polar_count / sum((count for count in aa_counts.values()))\n",
    "\n",
    "import pprint\n",
    "pprint.pprint(results)"
   ]
  },
  {
   "cell_type": "markdown",
   "metadata": {},
   "source": [
    "__Polarity of amino acids on the surface__\n",
    "\n",
    "Hemoglobin I from clam LUCINA PECTINATA is a monomeric soluble protein. In the clam it is dissolved in a polar fluid hemolymph. Therefore, its surface is predominantly made of polar amino acids (80%).\n",
    "\n",
    "A2a is a G protein-coupled receptor. It contains 7 transmembrane alpha-helices. Its surface is therefore to a large extent in contact with aliphatic chains of phospholipids of lipid bilayer. At those hydrophobic sites, surface is made of compatible hydrophobic amino acids.\n",
    "\n",
    "The receptor also has cytosolic and extracellular parts (thus will also have polar surface there). \n",
    "\n",
    "On the surface of the receptor, as in the crystal structure, we have identified half polar and half non-polar amino acids, no conflict with the reasoning above.\n",
    "\n",
    "__Polarity of amino acids in the core__\n",
    "\n",
    "Hemoglobin has a great ratio of hydrophobic residues in the core. The inner sides of alpha-helices have hydrophobic residues which allow for the protein to fold in a globule in a polar medium.\n",
    "\n",
    "However, A2a receptor has a surprisingly high number of polar residues in the core. That might be to hold the transmembrane helices together in the hydrophobic membrane. Mechanism of receptor's working is a conformational change initiated from outside of the membrane propagating to the intracellular part. That might be a delicate process and predictable structure/orientation of the transmembrane helices might be needed. In a hydrophobic medium, that might be achieved by polar interactions. Also, it seems to me, that polar interactions can be more accurate in this than not-so-specific hydrophobic interactions.\n",
    "\n",
    "__Ratio of counts of surface/buried amino acids__\n",
    "\n",
    "Hemoglobin has a lower ratio of surface to buried amino acids (6.5 vs 7.4 in A2a). It's a globular protein, thus given its volume, its surface is close to minimal. \n",
    "\n",
    "A2a has more elongated, barrel, shape (passes through membrane) and one shorter and one longer non-transmembrane helices, which 'poke' out of the structure. That combined increases the surface/buried counts ratio."
   ]
  },
  {
   "cell_type": "markdown",
   "metadata": {},
   "source": [
    "# Combining structure and sequence\n",
    "\n",
    "# 1) load MSA (get some test data, maybe I already have)\n",
    "# 2) load structure, get the model\n",
    "# 3) determine active sites (heteroatoms/dna? within 2.5 A, dna is more further, but run it with that too)\n",
    "# 4) scatterplot-swarmplot (2xcontinuous) conservation score/active-nonactive\n",
    "\n",
    "but DNA mutates, so probably not so high consrvation as in zinc binding aas!\n",
    "\n",
    "\n",
    "\n",
    "\n"
   ]
  },
  {
   "cell_type": "markdown",
   "metadata": {
    "pycharm": {
     "name": "#%% md\n"
    }
   },
   "source": [
    "# Structure superposition\n",
    "\n",
    "\n",
    "# structure scoring. Použít, co už mám v\n",
    "# vyhodnocení? RMSD, ale pokazdy je jinej počet párů, tak jak? Normalizace na počet atomů celý struktury? Ne to nejde\n",
    "# ale šlo by, že páry insercí by byly ke stejným krajním aa, mezi kterými jsou gapy?\n",
    "\n",
    "# co mě zajímá: m = #matched residues, R=RMSD. pokud m1>~m2, pak je lepší 1. superposition <=> R1 < R27\n",
    "# vycházím z toho, že alignment se nezmění, je to součást té superposition. Takže v situaci m1< m2 můžu buď přidávat zbytky k 1 (s\n",
    "# nejmenším RMSD nebo od 2 zbytky s největším RMSD odebrat. Problém, které přidávat (ke krajním aa gapů, nebo i jinam - složitější).\n",
    "# Takže spíš odebírat od 2 ty nejhorší (a třeba nastane R2>R1)? Co když ale odebráním ještě jednoho nejhoršího v 1 najednou zas bylo R1 <\n",
    "# R2? Můžu udělat graf s postupným odebírání z obou superpozicí... A ten pak vyhodnotit nějak. Např. pokud bude stabilně nižší RMSD u\n",
    "# ekvivalentních délek je to prostě lepší superposition\n",
    "# dobře, tak to bude evaluace. Pouze odebírání nejhorších\n",
    "\n",
    "# jak udělat structural features sequence alignment?\n",
    "# najít rozdělení random podobných aa featur (1d), vzdálenost - počet aa mezi nimi. To počtem normalizuju na jedničku a pak můžu použít\n",
    "# aditivně/multiplikativně,  (Jakkoliv škálované) pro jakoukoliv feature. Někde jsou ale featury hojné a u sebe? bude to dávat šum a horší \n",
    "výsledek? Asi nějaký tam bude no...\n",
    "# Šlo by to nějak jinak, pravděpodobnostně? Že bych vzal v úvahu i potenciální šum a dával tomu odpovídající váhu -- ale toje potřea asi \n",
    "víc dat a/nebo pravděpodobnostní model."
   ]
  }
 ],
 "metadata": {
  "kernelspec": {
   "display_name": "bioinfo_venv",
   "language": "python",
   "name": "bioinfo_venv"
  },
  "language_info": {
   "codemirror_mode": {
    "name": "ipython",
    "version": 3
   },
   "file_extension": ".py",
   "mimetype": "text/x-python",
   "name": "python",
   "nbconvert_exporter": "python",
   "pygments_lexer": "ipython3",
   "version": "3.7.3"
  },
  "pycharm": {
   "stem_cell": {
    "cell_type": "raw",
    "metadata": {
     "collapsed": false
    },
    "source": []
   }
  }
 },
 "nbformat": 4,
 "nbformat_minor": 4
}
